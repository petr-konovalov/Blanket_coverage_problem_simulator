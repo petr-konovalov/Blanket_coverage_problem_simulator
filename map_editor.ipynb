{
 "cells": [
  {
   "cell_type": "code",
   "execution_count": 57,
   "id": "0b599d50",
   "metadata": {},
   "outputs": [
    {
     "name": "stdout",
     "output_type": "stream",
     "text": [
      "1073742048\n",
      "[-558. -524.    0.]\n",
      "Cancel\n",
      "[-672. -672.    0.]\n",
      "[-680.  668.    0.]\n",
      "[2084.  676.    0.]\n",
      "[2070. -680.    0.]\n",
      "Cancel\n",
      "Cancel\n",
      "Cancel\n",
      "[-116. -684.    0.]\n",
      "[-114. -216.    0.]\n",
      "[ -64. -216.    0.]\n",
      "[ -68. -680.    0.]\n",
      "[ 658. -690.    0.]\n",
      "[ 654. -292.    0.]\n",
      "[ 134. -286.    0.]\n",
      "[ 134. -228.    0.]\n",
      "[ 950. -242.    0.]\n",
      "[ 940. -306.    0.]\n",
      "[ 714. -302.    0.]\n",
      "[ 706. -688.    0.]\n",
      "[2070. -690.    0.]\n",
      "[2070.  672.    0.]\n",
      "[1560.  644.    0.]\n",
      "[1522. -330.    0.]\n",
      "[1446. -324.    0.]\n",
      "[1466.  638.    0.]\n",
      "[224. 642.   0.]\n",
      "[198.  24.   0.]\n",
      "[140.  28.   0.]\n",
      "[126. 628.   0.]\n",
      "[-656.  648.    0.]\n",
      "[-664.  126.    0.]\n",
      "[-48. 112.   0.]\n",
      "[-54.  54.   0.]\n",
      "[-674.   52.    0.]\n",
      "Fix object\n",
      "[498.  26.   0.]\n",
      "[558. -78.   0.]\n",
      "[1300.  374.    0.]\n",
      "[1210.  460.    0.]\n",
      "[894. 274.   0.]\n",
      "[730. 434.   0.]\n",
      "[610. 356.   0.]\n",
      "[764. 204.   0.]\n",
      "Fix object\n",
      "[1130.   20.    0.]\n",
      "[1208.   16.    0.]\n",
      "[1234. -456.    0.]\n",
      "[1784. -522.    0.]\n",
      "[1790.  328.    0.]\n",
      "[1844.  326.    0.]\n",
      "[1850. -578.    0.]\n",
      "[ 908. -552.    0.]\n",
      "[ 904. -472.    0.]\n",
      "[1150. -466.    0.]\n",
      "Fix object\n",
      "Descriptor: \n",
      "np.array(\n",
      "[[[-672, -672, 0], [-116, -684, 0], [-114, -216, 0], [-64, -216, 0], [-68, -680, 0], [658, -690, 0], [654, -292, 0], [134, -286, 0], [134, -228, 0], [950, -242, 0], [940, -306, 0], [714, -302, 0], [706, -688, 0], [2070, -690, 0], [2070, 672, 0], [1560, 644, 0], [1522, -330, 0], [1446, -324, 0], [1466, 638, 0], [224, 642, 0], [198, 24, 0], [140, 28, 0], [126, 628, 0], [-656, 648, 0], [-664, 126, 0], [-48, 112, 0], [-54, 54, 0], [-674, 52, 0]],\n",
      " [[498, 26, 0], [558, -78, 0], [1300, 374, 0], [1210, 460, 0], [894, 274, 0], [730, 434, 0], [610, 356, 0], [764, 204, 0]],\n",
      " [[1130, 20, 0], [1208, 16, 0], [1234, -456, 0], [1784, -522, 0], [1790, 328, 0], [1844, 326, 0], [1850, -578, 0], [908, -552, 0], [904, -472, 0], [1150, -466, 0]]])\n"
     ]
    }
   ],
   "source": [
    "import simulator_base_constants\n",
    "from simulator_base_constants import *\n",
    "import simulator_base_classes\n",
    "from simulator_base_classes import *\n",
    "from scene_preparer import drawSceneWalls\n",
    "\n",
    "width = DEFAULT_WIDTH * 2\n",
    "height = DEFAULT_HEIGHT\n",
    "O = np.array([DEFAULT_WIDTH * 0.5, DEFAULT_HEIGHT * 0.5, 0])\n",
    "pygame.init()\n",
    "sc = pygame.display.set_mode((width , height))\n",
    "running = True\n",
    "objectsDescriptor = []\n",
    "currentObject = []\n",
    "while running:\n",
    "    sc.fill(BGCOLOR)\n",
    "    for event in pygame.event.get():\n",
    "        if event.type == pygame.QUIT:\n",
    "            running = False\n",
    "        elif event.type == pygame.MOUSEBUTTONUP:\n",
    "            pos = np.array(pygame.mouse.get_pos() + tuple([0]))\n",
    "            pos = (pos - O) / scale\n",
    "            print(pos)\n",
    "            currentObject.append(pos)\n",
    "        elif event.type == pygame.KEYUP:\n",
    "            if event.key == 27:\n",
    "                running = False\n",
    "            elif event.key == 13:\n",
    "                print(\"Fix object\")\n",
    "                if len(currentObject) > 0:\n",
    "                    objectsDescriptor.append(currentObject)\n",
    "                    currentObject = []\n",
    "            elif event.key == 8:\n",
    "                print(\"Cancel\")\n",
    "                if len(currentObject) > 0:\n",
    "                    currentObject.pop()\n",
    "                elif len(objectsDescriptor) > 0:\n",
    "                    currentObject = objectsDescriptor[-1]\n",
    "                    objectsDescriptor.pop()\n",
    "            elif event.key == 32:\n",
    "                print(\"Descriptor: \")\n",
    "                res = '['\n",
    "                for angles in objectsDescriptor:\n",
    "                    if res[-1] == ')':\n",
    "                        res += ',\\n '\n",
    "                    res += 'np.array(['\n",
    "                    for a in angles:\n",
    "                        if res[-1] == ']':\n",
    "                            res += ', '\n",
    "                        res += '['+str(int(a[0])) + ', ' + str(int(a[1])) + ', ' + str(int(a[2])) + ']'\n",
    "                    res += '])'\n",
    "                res += ']'\n",
    "                print(res)\n",
    "            else:\n",
    "                print(event.key)\n",
    "    drawSceneWalls(sc, O, objectsDescriptor)\n",
    "    drawSceneWalls(sc, O, [currentObject], BLUE)\n",
    "    if len(currentObject) > 0:\n",
    "        pygame.draw.circle(sc, GREEN, tuple((currentObject[-1] * scale + O)[:2]), 10)\n",
    "\n",
    "    pygame.display.update()\n",
    "pygame.quit()"
   ]
  },
  {
   "cell_type": "code",
   "execution_count": 58,
   "id": "547f4b53",
   "metadata": {},
   "outputs": [
    {
     "name": "stdout",
     "output_type": "stream",
     "text": [
      "[np.array([[-672, -672, 0], [-116, -684, 0], [-114, -216, 0], [-64, -216, 0], [-68, -680, 0], [658, -690, 0], [654, -292, 0], [134, -286, 0], [134, -228, 0], [950, -242, 0], [940, -306, 0], [714, -302, 0], [706, -688, 0], [2070, -690, 0], [2070, 672, 0], [1560, 644, 0], [1522, -330, 0], [1446, -324, 0], [1466, 638, 0], [224, 642, 0], [198, 24, 0], [140, 28, 0], [126, 628, 0], [-656, 648, 0], [-664, 126, 0], [-48, 112, 0], [-54, 54, 0], [-674, 52, 0]]),\n",
      " np.array([[498, 26, 0], [558, -78, 0], [1300, 374, 0], [1210, 460, 0], [894, 274, 0], [730, 434, 0], [610, 356, 0], [764, 204, 0]]),\n",
      " np.array([[1130, 20, 0], [1208, 16, 0], [1234, -456, 0], [1784, -522, 0], [1790, 328, 0], [1844, 326, 0], [1850, -578, 0], [908, -552, 0], [904, -472, 0], [1150, -466, 0]])]\n"
     ]
    }
   ],
   "source": [
    "res = '['\n",
    "for angles in objectsDescriptor:\n",
    "    if res[-1] == ')':\n",
    "        res += ',\\n '\n",
    "    res += 'np.array(['\n",
    "    for a in angles:\n",
    "        if res[-1] == ']':\n",
    "            res += ', '\n",
    "        res += '['+str(int(a[0])) + ', ' + str(int(a[1])) + ', ' + str(int(a[2])) + ']'\n",
    "    res += '])'\n",
    "res += ']'\n",
    "print(res)"
   ]
  },
  {
   "cell_type": "code",
   "execution_count": 11,
   "id": "9da1f56a",
   "metadata": {},
   "outputs": [
    {
     "data": {
      "text/plain": [
       "(3,)"
      ]
     },
     "execution_count": 11,
     "metadata": {},
     "output_type": "execute_result"
    }
   ],
   "source": [
    "tuple([3])"
   ]
  }
 ],
 "metadata": {
  "kernelspec": {
   "display_name": "Python 3 (ipykernel)",
   "language": "python",
   "name": "python3"
  },
  "language_info": {
   "codemirror_mode": {
    "name": "ipython",
    "version": 3
   },
   "file_extension": ".py",
   "mimetype": "text/x-python",
   "name": "python",
   "nbconvert_exporter": "python",
   "pygments_lexer": "ipython3",
   "version": "3.8.10"
  }
 },
 "nbformat": 4,
 "nbformat_minor": 5
}
