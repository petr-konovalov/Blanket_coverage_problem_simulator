{
 "cells": [
  {
   "cell_type": "code",
   "execution_count": 1,
   "id": "6e65177f",
   "metadata": {},
   "outputs": [
    {
     "name": "stdout",
     "output_type": "stream",
     "text": [
      "Experiment as scene TwoBoxes with algorithm SA robots count 42\n",
      "Animation exists skip\n",
      "Experiment as scene O with algorithm SSND robots count 42\n",
      "Animation exists skip\n",
      "Experiment as scene TwoBoxes with algorithm SWARM robots count 42\n",
      "Animation exists skip\n",
      "Experiment as scene Maze1 with algorithm CSA robots count 500\n",
      "Animation exists skip\n",
      "Experiment as scene TwoBoxes with algorithm VFASF robots count 42\n",
      "Animation exists skip\n",
      "Experiment as scene Maze2 with algorithm SA 12 sectors robots count 350\n",
      "Experiment as scene Maze2 with algorithm SA robots count 400\n",
      "Experiment as scene O with algorithm SWARM robots count 42\n",
      "Animation exists skip\n",
      "Experiment as scene TwoBoxes with algorithm SSND robots count 42\n",
      "Animation exists skip\n",
      "Experiment as scene Maze1 with algorithm SA robots count 250\n",
      "Animation exists skip\n",
      "Experiment as scene O with algorithm SA robots count 42\n",
      "Animation exists skip\n",
      "Experiment as scene Maze2 with algorithm CSA robots count 350\n",
      "Experiment as scene Maze3 with algorithm SAsf12s8 robots count 150\n",
      "Experiment as scene TwoBoxes with algorithm SODA robots count 42\n",
      "Animation exists skip\n",
      "Experiment as scene O with algorithm VFASF robots count 42\n",
      "Animation exists skip\n",
      "Experiment as scene TwoBoxes with algorithm DSSA robots count 42\n",
      "Animation exists skip\n",
      "Experiment as scene Maze1 with algorithm SA robots count 300\n",
      "Experiment as scene O with algorithm SODA robots count 42\n",
      "Animation exists skip\n",
      "Experiment as scene O with algorithm DSSA robots count 42\n",
      "Animation exists skip\n",
      "Experiment as scene TwoBoxes with algorithm CSA robots count 42\n",
      "Animation exists skip\n",
      "Experiment as scene Maze3 with algorithm CSA robots count 150\n",
      "Experiment as scene Maze1 with algorithm SA robots count 500\n"
     ]
    },
    {
     "ename": "ValueError",
     "evalue": "all input arrays must have the same shape",
     "output_type": "error",
     "traceback": [
      "\u001b[0;31m---------------------------------------------------------------------------\u001b[0m",
      "\u001b[0;31mValueError\u001b[0m                                Traceback (most recent call last)",
      "Cell \u001b[0;32mIn[1], line 33\u001b[0m\n\u001b[1;32m     31\u001b[0m frame_names \u001b[38;5;241m=\u001b[39m frame_names[::skip_step]\n\u001b[1;32m     32\u001b[0m frames \u001b[38;5;241m=\u001b[39m [iio\u001b[38;5;241m.\u001b[39mimread(folder \u001b[38;5;241m+\u001b[39m \u001b[38;5;124m'\u001b[39m\u001b[38;5;124m/\u001b[39m\u001b[38;5;124m'\u001b[39m \u001b[38;5;241m+\u001b[39m frame_name) \u001b[38;5;28;01mfor\u001b[39;00m frame_name \u001b[38;5;129;01min\u001b[39;00m frame_names]\n\u001b[0;32m---> 33\u001b[0m \u001b[43miio\u001b[49m\u001b[38;5;241;43m.\u001b[39;49m\u001b[43mimwrite\u001b[49m\u001b[43m(\u001b[49m\u001b[43mfolder\u001b[49m\u001b[43m \u001b[49m\u001b[38;5;241;43m+\u001b[39;49m\u001b[43m \u001b[49m\u001b[38;5;124;43m'\u001b[39;49m\u001b[38;5;124;43m/\u001b[39;49m\u001b[38;5;124;43m'\u001b[39;49m\u001b[43m \u001b[49m\u001b[38;5;241;43m+\u001b[39;49m\u001b[43m \u001b[49m\u001b[43manimation_file_name\u001b[49m\u001b[43m,\u001b[49m\u001b[43m \u001b[49m\u001b[43mframes\u001b[49m\u001b[43m,\u001b[49m\u001b[43m \u001b[49m\u001b[43mduration\u001b[49m\u001b[43m \u001b[49m\u001b[38;5;241;43m=\u001b[39;49m\u001b[43m \u001b[49m\u001b[38;5;28;43mint\u001b[39;49m\u001b[43m(\u001b[49m\u001b[38;5;241;43m20\u001b[39;49m\u001b[43m \u001b[49m\u001b[38;5;241;43m*\u001b[39;49m\u001b[43m \u001b[49m\u001b[43mskip_step\u001b[49m\u001b[43m \u001b[49m\u001b[38;5;241;43m/\u001b[39;49m\u001b[43m \u001b[49m\u001b[43macceleration\u001b[49m\u001b[43m)\u001b[49m\u001b[43m,\u001b[49m\u001b[43m \u001b[49m\u001b[43mloop\u001b[49m\u001b[43m \u001b[49m\u001b[38;5;241;43m=\u001b[39;49m\u001b[43m \u001b[49m\u001b[38;5;241;43m0\u001b[39;49m\u001b[43m)\u001b[49m\n",
      "File \u001b[0;32m~/venv-ardupilot/lib/python3.11/site-packages/imageio/v3.py:147\u001b[0m, in \u001b[0;36mimwrite\u001b[0;34m(uri, image, plugin, extension, format_hint, **kwargs)\u001b[0m\n\u001b[1;32m    105\u001b[0m \u001b[38;5;250m\u001b[39m\u001b[38;5;124;03m\"\"\"Write an ndimage to the given URI.\u001b[39;00m\n\u001b[1;32m    106\u001b[0m \n\u001b[1;32m    107\u001b[0m \u001b[38;5;124;03mThe exact behavior depends on the file type and plugin used. To learn about\u001b[39;00m\n\u001b[0;32m   (...)\u001b[0m\n\u001b[1;32m    136\u001b[0m \n\u001b[1;32m    137\u001b[0m \u001b[38;5;124;03m\"\"\"\u001b[39;00m\n\u001b[1;32m    139\u001b[0m \u001b[38;5;28;01mwith\u001b[39;00m imopen(\n\u001b[1;32m    140\u001b[0m     uri,\n\u001b[1;32m    141\u001b[0m     \u001b[38;5;124m\"\u001b[39m\u001b[38;5;124mw\u001b[39m\u001b[38;5;124m\"\u001b[39m,\n\u001b[0;32m   (...)\u001b[0m\n\u001b[1;32m    145\u001b[0m     extension\u001b[38;5;241m=\u001b[39mextension,\n\u001b[1;32m    146\u001b[0m ) \u001b[38;5;28;01mas\u001b[39;00m img_file:\n\u001b[0;32m--> 147\u001b[0m     encoded \u001b[38;5;241m=\u001b[39m \u001b[43mimg_file\u001b[49m\u001b[38;5;241;43m.\u001b[39;49m\u001b[43mwrite\u001b[49m\u001b[43m(\u001b[49m\u001b[43mimage\u001b[49m\u001b[43m,\u001b[49m\u001b[43m \u001b[49m\u001b[38;5;241;43m*\u001b[39;49m\u001b[38;5;241;43m*\u001b[39;49m\u001b[43mkwargs\u001b[49m\u001b[43m)\u001b[49m\n\u001b[1;32m    149\u001b[0m \u001b[38;5;28;01mreturn\u001b[39;00m encoded\n",
      "File \u001b[0;32m~/venv-ardupilot/lib/python3.11/site-packages/imageio/plugins/pillow.py:417\u001b[0m, in \u001b[0;36mPillowPlugin.write\u001b[0;34m(self, ndimage, mode, format, is_batch, **kwargs)\u001b[0m\n\u001b[1;32m    414\u001b[0m     kwargs[\u001b[38;5;124m\"\u001b[39m\u001b[38;5;124mduration\u001b[39m\u001b[38;5;124m\"\u001b[39m] \u001b[38;5;241m=\u001b[39m \u001b[38;5;241m1000\u001b[39m \u001b[38;5;241m*\u001b[39m \u001b[38;5;241m1\u001b[39m \u001b[38;5;241m/\u001b[39m kwargs\u001b[38;5;241m.\u001b[39mget(\u001b[38;5;124m\"\u001b[39m\u001b[38;5;124mfps\u001b[39m\u001b[38;5;124m\"\u001b[39m)\n\u001b[1;32m    416\u001b[0m \u001b[38;5;28;01mif\u001b[39;00m \u001b[38;5;28misinstance\u001b[39m(ndimage, \u001b[38;5;28mlist\u001b[39m):\n\u001b[0;32m--> 417\u001b[0m     ndimage \u001b[38;5;241m=\u001b[39m \u001b[43mnp\u001b[49m\u001b[38;5;241;43m.\u001b[39;49m\u001b[43mstack\u001b[49m\u001b[43m(\u001b[49m\u001b[43mndimage\u001b[49m\u001b[43m,\u001b[49m\u001b[43m \u001b[49m\u001b[43maxis\u001b[49m\u001b[38;5;241;43m=\u001b[39;49m\u001b[38;5;241;43m0\u001b[39;49m\u001b[43m)\u001b[49m\n\u001b[1;32m    418\u001b[0m     is_batch \u001b[38;5;241m=\u001b[39m \u001b[38;5;28;01mTrue\u001b[39;00m\n\u001b[1;32m    419\u001b[0m \u001b[38;5;28;01melse\u001b[39;00m:\n",
      "File \u001b[0;32m~/venv-ardupilot/lib/python3.11/site-packages/numpy/core/shape_base.py:449\u001b[0m, in \u001b[0;36mstack\u001b[0;34m(arrays, axis, out, dtype, casting)\u001b[0m\n\u001b[1;32m    447\u001b[0m shapes \u001b[38;5;241m=\u001b[39m {arr\u001b[38;5;241m.\u001b[39mshape \u001b[38;5;28;01mfor\u001b[39;00m arr \u001b[38;5;129;01min\u001b[39;00m arrays}\n\u001b[1;32m    448\u001b[0m \u001b[38;5;28;01mif\u001b[39;00m \u001b[38;5;28mlen\u001b[39m(shapes) \u001b[38;5;241m!=\u001b[39m \u001b[38;5;241m1\u001b[39m:\n\u001b[0;32m--> 449\u001b[0m     \u001b[38;5;28;01mraise\u001b[39;00m \u001b[38;5;167;01mValueError\u001b[39;00m(\u001b[38;5;124m'\u001b[39m\u001b[38;5;124mall input arrays must have the same shape\u001b[39m\u001b[38;5;124m'\u001b[39m)\n\u001b[1;32m    451\u001b[0m result_ndim \u001b[38;5;241m=\u001b[39m arrays[\u001b[38;5;241m0\u001b[39m]\u001b[38;5;241m.\u001b[39mndim \u001b[38;5;241m+\u001b[39m \u001b[38;5;241m1\u001b[39m\n\u001b[1;32m    452\u001b[0m axis \u001b[38;5;241m=\u001b[39m normalize_axis_index(axis, result_ndim)\n",
      "\u001b[0;31mValueError\u001b[0m: all input arrays must have the same shape"
     ]
    }
   ],
   "source": [
    "import imageio.v3 as iio\n",
    "import os\n",
    "folders = [f for f in os.listdir() if 'Experiment' == f[:10]]\n",
    "acceleration = 2\n",
    "max_frames = 100\n",
    "skips_steps = [1, 5, 10, 20, 25, 50]\n",
    "\n",
    "def getSkipStep(l):\n",
    "    for skip in skips_steps:\n",
    "        if skip * max_frames >= l:\n",
    "            return skip\n",
    "    return skips_steps[-1]\n",
    "        \n",
    "def getSceneAndAlgorithmFromFolder(folder):\n",
    "    sceneL = folder.find('scene') + len('scene') + 1\n",
    "    sceneR = folder.find('with algorithm') - 1\n",
    "    algL = folder.find('algorithm') + len('algorithm') + 1\n",
    "    algR = folder.find('robots') - 1\n",
    "    return folder[sceneL:sceneR], folder[algL:algR]\n",
    "\n",
    "for folder in folders:\n",
    "    print(folder)\n",
    "    scene_name, algorithm_name = getSceneAndAlgorithmFromFolder(folder)\n",
    "    animation_file_name = \"Algorithm \" + algorithm_name + \" Scene \" + scene_name + \".gif\"\n",
    "    frame_names = os.listdir(folder)\n",
    "    if animation_file_name in frame_names:\n",
    "        print('Animation exists skip')\n",
    "    else:\n",
    "        frame_names.sort()\n",
    "        skip_step = getSkipStep(len(frame_names))\n",
    "        frame_names = frame_names[::skip_step]\n",
    "        frames = [iio.imread(folder + '/' + frame_name) for frame_name in frame_names]\n",
    "        iio.imwrite(folder + '/' + animation_file_name, frames, duration = int(20 * skip_step / acceleration), loop = 0)"
   ]
  },
  {
   "cell_type": "code",
   "execution_count": 25,
   "id": "65e64efe",
   "metadata": {},
   "outputs": [],
   "source": [
    "import os\n",
    "folders = [f for f in os.listdir() if 'Experiment' == f[:10]]"
   ]
  },
  {
   "cell_type": "code",
   "execution_count": 26,
   "id": "c96377d5",
   "metadata": {},
   "outputs": [],
   "source": [
    "def getSceneAndAlgorithmFromFolder(folder):\n",
    "    sceneL = folder.find('scene') + len('scene') + 1\n",
    "    sceneR = folder.find('with algorithm') - 1\n",
    "    algL = folder.find('algorithm') + len('algorithm') + 1\n",
    "    algR = folder.find('robots') - 1\n",
    "    return folder[sceneL:sceneR], folder[algL:algR]"
   ]
  },
  {
   "cell_type": "code",
   "execution_count": 27,
   "id": "130e0e27",
   "metadata": {},
   "outputs": [
    {
     "name": "stdout",
     "output_type": "stream",
     "text": [
      "('Butterfly', 'DSSA')\n",
      "('ZigZag', 'SODA')\n",
      "('Butterfly', 'CSA')\n",
      "('ZigZag', 'SA')\n",
      "('ZigZag', 'CSA')\n",
      "('Butterfly', 'SWARM')\n",
      "('Butterfly', 'SODA')\n",
      "('Butterfly', 'SA')\n",
      "('Butterfly', 'SSND')\n",
      "('Butterfly', 'VFASF')\n"
     ]
    }
   ],
   "source": [
    "for folder in folders:\n",
    "    print(getSceneAndAlgorithmFromFolder(folder))"
   ]
  },
  {
   "cell_type": "code",
   "execution_count": 14,
   "id": "c9e7161e",
   "metadata": {},
   "outputs": [
    {
     "data": {
      "text/plain": [
       "'Experiment as scene Butterfly with algorithm DSSA robots count 35'"
      ]
     },
     "execution_count": 14,
     "metadata": {},
     "output_type": "execute_result"
    }
   ],
   "source": [
    "folders[0]"
   ]
  },
  {
   "cell_type": "code",
   "execution_count": 31,
   "id": "fb4deb5f",
   "metadata": {},
   "outputs": [],
   "source": [
    "folder = folders[0]\n",
    "frames = os.listdir(folder)\n",
    "frames.sort()"
   ]
  },
  {
   "cell_type": "code",
   "execution_count": 35,
   "id": "cfd5b858",
   "metadata": {},
   "outputs": [],
   "source": [
    "frames = frames[::5]"
   ]
  },
  {
   "cell_type": "code",
   "execution_count": 36,
   "id": "46df4222",
   "metadata": {},
   "outputs": [
    {
     "data": {
      "text/plain": [
       "['Frame 000001.png',\n",
       " 'Frame 000051.png',\n",
       " 'Frame 000101.png',\n",
       " 'Frame 000151.png',\n",
       " 'Frame 000201.png',\n",
       " 'Frame 000251.png',\n",
       " 'Frame 000301.png',\n",
       " 'Frame 000351.png',\n",
       " 'Frame 000401.png',\n",
       " 'Frame 000451.png',\n",
       " 'Frame 000501.png',\n",
       " 'Frame 000551.png',\n",
       " 'Frame 000601.png',\n",
       " 'Frame 000651.png',\n",
       " 'Frame 000701.png',\n",
       " 'Frame 000751.png',\n",
       " 'Frame 000801.png',\n",
       " 'Frame 000851.png',\n",
       " 'Frame 000901.png',\n",
       " 'Frame 000951.png',\n",
       " 'Frame 001001.png',\n",
       " 'Frame 001051.png',\n",
       " 'Frame 001101.png',\n",
       " 'Frame 001151.png',\n",
       " 'Frame 001201.png',\n",
       " 'Frame 001251.png',\n",
       " 'Frame 001301.png',\n",
       " 'Frame 001351.png',\n",
       " 'Frame 001401.png',\n",
       " 'Frame 001451.png',\n",
       " 'Frame 001501.png',\n",
       " 'Frame 001551.png',\n",
       " 'Frame 001601.png',\n",
       " 'Frame 001651.png',\n",
       " 'Frame 001701.png',\n",
       " 'Frame 001751.png',\n",
       " 'Frame 001801.png',\n",
       " 'Frame 001851.png',\n",
       " 'Frame 001901.png',\n",
       " 'Frame 001951.png',\n",
       " 'Frame 002001.png',\n",
       " 'Frame 002051.png',\n",
       " 'Frame 002101.png',\n",
       " 'Frame 002151.png',\n",
       " 'Frame 002201.png',\n",
       " 'Frame 002251.png',\n",
       " 'Frame 002301.png',\n",
       " 'Frame 002351.png']"
      ]
     },
     "execution_count": 36,
     "metadata": {},
     "output_type": "execute_result"
    }
   ],
   "source": [
    "frames"
   ]
  }
 ],
 "metadata": {
  "kernelspec": {
   "display_name": "Python 3 (ipykernel)",
   "language": "python",
   "name": "python3"
  },
  "language_info": {
   "codemirror_mode": {
    "name": "ipython",
    "version": 3
   },
   "file_extension": ".py",
   "mimetype": "text/x-python",
   "name": "python",
   "nbconvert_exporter": "python",
   "pygments_lexer": "ipython3",
   "version": "3.11.4"
  }
 },
 "nbformat": 4,
 "nbformat_minor": 5
}
