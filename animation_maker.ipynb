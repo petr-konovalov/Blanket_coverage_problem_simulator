{
 "cells": [
  {
   "cell_type": "code",
   "execution_count": 48,
   "id": "6e65177f",
   "metadata": {},
   "outputs": [
    {
     "name": "stdout",
     "output_type": "stream",
     "text": [
      "Experiment as scene Butterfly with algorithm DSSA robots count 35\n",
      "Experiment as scene ZigZag with algorithm SWARM robots count 35\n",
      "Experiment as scene ZigZag with algorithm SODA robots count 35\n",
      "Experiment as scene O with algorithm VFASF robots count 35\n",
      "Experiment as scene ZigZag with algorithm DSSA robots count 35\n",
      "Experiment as scene TwoBoxes with algorithm SA robots count 35\n",
      "Experiment as scene TwoBoxes with algorithm SODA robots count 35\n",
      "Experiment as scene O with algorithm SA robots count 35\n",
      "Experiment as scene TwoBoxes with algorithm CSA robots count 35\n",
      "Experiment as scene Butterfly with algorithm CSA robots count 35\n",
      "Experiment as scene TwoBoxes with algorithm SSND robots count 35\n",
      "Experiment as scene TwoBoxes with algorithm DSSA robots count 35\n",
      "Experiment as scene ZigZag with algorithm SA robots count 35\n",
      "Experiment as scene O with algorithm SODA robots count 35\n",
      "Experiment as scene ZigZag with algorithm SSND robots count 35\n",
      "Experiment as scene O with algorithm DSSA robots count 35\n",
      "Experiment as scene O with algorithm SSND robots count 35\n",
      "Experiment as scene ZigZag with algorithm CSA robots count 35\n",
      "Experiment as scene Butterfly with algorithm SWARM robots count 35\n",
      "Experiment as scene Butterfly with algorithm SODA robots count 35\n",
      "Experiment as scene O with algorithm CSA robots count 35\n",
      "Experiment as scene Butterfly with algorithm SA robots count 35\n",
      "Experiment as scene TwoBoxes with algorithm VFASF robots count 35\n",
      "Experiment as scene O with algorithm SWARM robots count 35\n",
      "Experiment as scene Butterfly with algorithm SSND robots count 35\n",
      "Experiment as scene TwoBoxes with algorithm SWARM robots count 35\n",
      "Experiment as scene Butterfly with algorithm VFASF robots count 35\n",
      "Experiment as scene ZigZag with algorithm VFASF robots count 35\n"
     ]
    }
   ],
   "source": [
    "import imageio.v3 as iio\n",
    "import os\n",
    "folders = [f for f in os.listdir() if 'Experiment' == f[:10]]\n",
    "acceleration = 1\n",
    "max_frames = 100\n",
    "skips_steps = [1, 5, 10, 20, 25, 50, 100]\n",
    "\n",
    "def getSkipStep(l):\n",
    "    for skip in skips_steps:\n",
    "        if skip * max_frames >= l:\n",
    "            return skip\n",
    "\n",
    "for folder in folders:\n",
    "    print(folder)\n",
    "    scene_name, algorithm_name = getSceneAndAlgorithmFromFolder(folder)\n",
    "    animation_file_name = \"Algorithm \" + algorithm_name + \" Scene \" + scene_name + \".gif\"\n",
    "    frame_names = os.listdir(folder)\n",
    "    if animation_file_name in frame_names:\n",
    "        print('Animation exists skip')\n",
    "    else:\n",
    "        frame_names.sort()\n",
    "        skip_step = getSkipStep(len(frame_names))\n",
    "        frame_names = frame_names[::skip_step]\n",
    "        frames = [iio.imread(folder + '/' + frame_name) for frame_name in frame_names]\n",
    "        iio.imwrite(folder + '/' + animation_file_name, frames, duration = int(20 * skip_step / acceleration), loop = 0)"
   ]
  },
  {
   "cell_type": "code",
   "execution_count": 25,
   "id": "65e64efe",
   "metadata": {},
   "outputs": [],
   "source": [
    "import os\n",
    "folders = [f for f in os.listdir() if 'Experiment' == f[:10]]"
   ]
  },
  {
   "cell_type": "code",
   "execution_count": 26,
   "id": "c96377d5",
   "metadata": {},
   "outputs": [],
   "source": [
    "def getSceneAndAlgorithmFromFolder(folder):\n",
    "    sceneL = folder.find('scene') + len('scene') + 1\n",
    "    sceneR = folder.find('with algorithm') - 1\n",
    "    algL = folder.find('algorithm') + len('algorithm') + 1\n",
    "    algR = folder.find('robots') - 1\n",
    "    return folder[sceneL:sceneR], folder[algL:algR]"
   ]
  },
  {
   "cell_type": "code",
   "execution_count": 27,
   "id": "130e0e27",
   "metadata": {},
   "outputs": [
    {
     "name": "stdout",
     "output_type": "stream",
     "text": [
      "('Butterfly', 'DSSA')\n",
      "('ZigZag', 'SODA')\n",
      "('Butterfly', 'CSA')\n",
      "('ZigZag', 'SA')\n",
      "('ZigZag', 'CSA')\n",
      "('Butterfly', 'SWARM')\n",
      "('Butterfly', 'SODA')\n",
      "('Butterfly', 'SA')\n",
      "('Butterfly', 'SSND')\n",
      "('Butterfly', 'VFASF')\n"
     ]
    }
   ],
   "source": [
    "for folder in folders:\n",
    "    print(getSceneAndAlgorithmFromFolder(folder))"
   ]
  },
  {
   "cell_type": "code",
   "execution_count": 14,
   "id": "c9e7161e",
   "metadata": {},
   "outputs": [
    {
     "data": {
      "text/plain": [
       "'Experiment as scene Butterfly with algorithm DSSA robots count 35'"
      ]
     },
     "execution_count": 14,
     "metadata": {},
     "output_type": "execute_result"
    }
   ],
   "source": [
    "folders[0]"
   ]
  },
  {
   "cell_type": "code",
   "execution_count": 31,
   "id": "fb4deb5f",
   "metadata": {},
   "outputs": [],
   "source": [
    "folder = folders[0]\n",
    "frames = os.listdir(folder)\n",
    "frames.sort()"
   ]
  },
  {
   "cell_type": "code",
   "execution_count": 35,
   "id": "cfd5b858",
   "metadata": {},
   "outputs": [],
   "source": [
    "frames = frames[::5]"
   ]
  },
  {
   "cell_type": "code",
   "execution_count": 36,
   "id": "46df4222",
   "metadata": {},
   "outputs": [
    {
     "data": {
      "text/plain": [
       "['Frame 000001.png',\n",
       " 'Frame 000051.png',\n",
       " 'Frame 000101.png',\n",
       " 'Frame 000151.png',\n",
       " 'Frame 000201.png',\n",
       " 'Frame 000251.png',\n",
       " 'Frame 000301.png',\n",
       " 'Frame 000351.png',\n",
       " 'Frame 000401.png',\n",
       " 'Frame 000451.png',\n",
       " 'Frame 000501.png',\n",
       " 'Frame 000551.png',\n",
       " 'Frame 000601.png',\n",
       " 'Frame 000651.png',\n",
       " 'Frame 000701.png',\n",
       " 'Frame 000751.png',\n",
       " 'Frame 000801.png',\n",
       " 'Frame 000851.png',\n",
       " 'Frame 000901.png',\n",
       " 'Frame 000951.png',\n",
       " 'Frame 001001.png',\n",
       " 'Frame 001051.png',\n",
       " 'Frame 001101.png',\n",
       " 'Frame 001151.png',\n",
       " 'Frame 001201.png',\n",
       " 'Frame 001251.png',\n",
       " 'Frame 001301.png',\n",
       " 'Frame 001351.png',\n",
       " 'Frame 001401.png',\n",
       " 'Frame 001451.png',\n",
       " 'Frame 001501.png',\n",
       " 'Frame 001551.png',\n",
       " 'Frame 001601.png',\n",
       " 'Frame 001651.png',\n",
       " 'Frame 001701.png',\n",
       " 'Frame 001751.png',\n",
       " 'Frame 001801.png',\n",
       " 'Frame 001851.png',\n",
       " 'Frame 001901.png',\n",
       " 'Frame 001951.png',\n",
       " 'Frame 002001.png',\n",
       " 'Frame 002051.png',\n",
       " 'Frame 002101.png',\n",
       " 'Frame 002151.png',\n",
       " 'Frame 002201.png',\n",
       " 'Frame 002251.png',\n",
       " 'Frame 002301.png',\n",
       " 'Frame 002351.png']"
      ]
     },
     "execution_count": 36,
     "metadata": {},
     "output_type": "execute_result"
    }
   ],
   "source": [
    "frames"
   ]
  }
 ],
 "metadata": {
  "kernelspec": {
   "display_name": "Python 3 (ipykernel)",
   "language": "python",
   "name": "python3"
  },
  "language_info": {
   "codemirror_mode": {
    "name": "ipython",
    "version": 3
   },
   "file_extension": ".py",
   "mimetype": "text/x-python",
   "name": "python",
   "nbconvert_exporter": "python",
   "pygments_lexer": "ipython3",
   "version": "3.8.10"
  }
 },
 "nbformat": 4,
 "nbformat_minor": 5
}
