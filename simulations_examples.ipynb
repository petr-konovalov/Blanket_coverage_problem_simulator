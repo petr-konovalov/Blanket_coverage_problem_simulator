{
 "cells": [
  {
   "cell_type": "code",
   "execution_count": 1,
   "id": "0f52323d-f589-42ed-b8eb-d953130643b1",
   "metadata": {},
   "outputs": [
    {
     "name": "stdout",
     "output_type": "stream",
     "text": [
      "pygame 2.5.1 (SDL 2.28.2, Python 3.11.4)\n",
      "Hello from the pygame community. https://www.pygame.org/contribute.html\n"
     ]
    }
   ],
   "source": [
    "import simulator_executor\n",
    "from simulator_executor import runSimulator\n",
    "from coverage_problem_algorithms import SWARM, VFASF, CSA, SA, DSSA, SODA, SSND, ESF\n",
    "import scene_preparer\n",
    "from scene_preparer import *\n",
    "\n",
    "def metricsPrint(rCnt, elapsedTime, energy, meanDistance, covaragePercentage, uniformity, sensorCoverageUniformity):\n",
    "    print(str(rCnt) + \"\\t\" + str(elapsedTime) + \"\\t\" + str(energy) + \"\\t\" + str(meanDistance) + \"\\t\" + str(covaragePercentage) + \"\\t\" + str(uniformity) + \"\\t\" + str(sensorCoverageUniformity))\n",
    "\n",
    "widths = [604, 704, 504, 504]\n",
    "heights = [404, 504, 504, 504]\n",
    "As = [1200 * 800 - 0.5 * (800-150) * 1200, 1400 * 1000 - 600 * 600, 1000 * 1000 - 300 * 300, 1000 * 1000 - 100 * 100]\n",
    "scenes = [ButterflySceneGenerator(), ZigZagSceneGenerator(), OSceneGenerator(), TwoBoxesSceneGenerator()]"
   ]
  },
  {
   "cell_type": "code",
   "execution_count": null,
   "id": "d6f131f8",
   "metadata": {},
   "outputs": [],
   "source": [
    "# for rCnt in [100, 150, 200]:\n",
    "#     for sectorCount in [4, 6, 8, 10, 12, 16, 18]:\n",
    "#         for speedCoef in [4, 8, 12]:\n",
    "#             print([rCnt, speedCoef, sectorCount])\n",
    "runSimulator(Maze3SceneGenerator(), 100, ESF(baseAlgorithm = SA()), metricsPrint, width = DEFAULT_WIDTH * 2, O = [DEFAULT_WIDTH, DEFAULT_HEIGHT * 0.5, 0])"
   ]
  },
  {
   "cell_type": "code",
   "execution_count": 4,
   "id": "23ec0c51-f721-48bf-aaa5-f921476a94a4",
   "metadata": {},
   "outputs": [],
   "source": [
    "from numpy import array\n",
    "vo1 = {'Positions': [array([ 69.06924648, 127.51245505,   0.        ]), array([ 80.79313937, 121.16201307,   0.        ]), array([ 57.3453536 , 133.86289703,   0.        ]), array([ 92.51703226, 114.81157109,   0.        ]), array([ 45.62146071, 140.21333901,   0.        ]), array([104.24092515, 108.46112911,   0.        ]), array([ 33.89756782, 146.56378099,   0.        ]), array([115.96481803, 102.11068713,   0.        ]), array([ 22.17367494, 152.91422297,   0.        ]), array([127.68871092,  95.76024514,   0.        ]), array([ 10.44978205, 159.26466495,   0.        ]), array([139.41260381,  89.40980316,   0.        ]), array([ -1.27411084, 165.61510693,   0.        ]), array([  79.45186269, -146.68036189,    0.        ]), array([  67.7279698 , -153.03080387,    0.        ]), array([  91.17575558, -140.32991991,    0.        ]), array([  56.00407691, -159.38124585,    0.        ]), array([ 102.89964846, -133.97947793,    0.        ]), array([  44.28018403, -165.73168783,    0.        ]), array([ 114.62354135, -127.62903594,    0.        ]), array([151.13649669,  83.05936118,   0.        ]), array([-12.99800373, 171.96554891,   0.        ]), array([  32.55629114, -172.08212981,    0.        ]), array([ 126.34743424, -121.27859396,    0.        ]), array([  20.83239825, -178.43257179,    0.        ]), array([ 138.07132712, -114.92815198,    0.        ]), array([162.86038958,  76.7089192 ,   0.        ]), array([-24.72189661, 178.31599089,   0.        ]), array([-137.43075718, -122.19922488,    0.        ]), array([ 149.79522001, -108.57771   ,    0.        ]), array([   9.10850537, -184.78301377,    0.        ]), array([-36.4457895 , 184.66643287,   0.        ]), array([174.58428247,  70.35847722,   0.        ]), array([ 161.5191129 , -102.22726802,    0.        ]), array([  -2.61538752, -191.13345575,    0.        ]), array([-48.16968239, 191.01687485,   0.        ]), array([186.30817536,  64.00803524,   0.        ]), array([173.24300579, -95.87682604,   0.        ]), array([ -14.33928041, -197.48389773,    0.        ]), array([188.90007791,  62.60408803,   0.        ]), array([188.90007791,  62.60408803,   0.        ]), array([184.96689867, -89.52638406,   0.        ]), array([ -26.0631733 , -203.83433971,    0.        ]), array([-59.89357527, 197.36731683,   0.        ]), array([188.90007791, -87.39591197,   0.        ]), array([188.90007791, -87.39591197,   0.        ]), array([200.6239708 ,  68.95453001,   0.        ]), array([ -37.78706618, -210.18478169,    0.        ]), array([-71.61746816, 203.71775881,   0.        ]), array([-212.93753619,   53.9715418 ,    0.        ])], 'Labels': ['Wall', 'Wall', 'Wall', 'Wall', 'Wall', 'Wall', 'Wall', 'Wall', 'Wall', 'Wall', 'Wall', 'Wall', 'Wall', 'Wall', 'Wall', 'Wall', 'Wall', 'Wall', 'Wall', 'Wall', 'Wall', 'Wall', 'Wall', 'Wall', 'Wall', 'Wall', 'Wall', 'Wall', 'Agent', 'Wall', 'Wall', 'Wall', 'Wall', 'Wall', 'Wall', 'Wall', 'Wall', 'Wall', 'Wall', 'Wall', 'Wall', 'Wall', 'Wall', 'Wall', 'Wall', 'Wall', 'Wall', 'Wall', 'Wall', 'Agent']}\n",
    "vo2 = {'Positions': [array([ 68.25077898, 126.00143811,   0.        ]), array([ 79.97467187, 119.65099613,   0.        ]), array([ 56.52688609, 132.35188009,   0.        ]), array([ 91.69856475, 113.30055415,   0.        ]), array([ 44.8029932 , 138.70232207,   0.        ]), array([103.42245764, 106.95011217,   0.        ]), array([ 33.07910032, 145.05276405,   0.        ]), array([115.14635053, 100.59967019,   0.        ]), array([ 21.35520743, 151.40320604,   0.        ]), array([  9.63131454, 157.75364802,   0.        ]), array([126.87024341,  94.24922821,   0.        ]), array([138.5941363 ,  87.89878623,   0.        ]), array([ -2.09257835, 164.10409   ,   0.        ]), array([  78.45805217, -144.84563477,    0.        ]), array([  66.73415928, -151.19607675,    0.        ]), array([  90.18194505, -138.49519279,    0.        ]), array([  55.01026639, -157.54651873,    0.        ]), array([ 101.90583794, -132.14475081,    0.        ]), array([  43.28637351, -163.89696071,    0.        ]), array([ 113.62973083, -125.79430883,    0.        ]), array([150.31802919,  81.54834425,   0.        ]), array([-13.81647123, 170.45453198,   0.        ]), array([  31.56248062, -170.24740269,    0.        ]), array([ 125.35362372, -119.44386685,    0.        ]), array([  19.83858773, -176.59784467,    0.        ]), array([ 137.0775166 , -113.09342487,    0.        ]), array([162.04192208,  75.19790227,   0.        ]), array([-25.54036412, 176.80497396,   0.        ]), array([   8.11469484, -182.94828665,    0.        ]), array([ 148.80140949, -106.74298289,    0.        ]), array([-37.26425701, 183.15541594,   0.        ]), array([173.76581496,  68.84746029,   0.        ]), array([  -3.60919804, -189.29872863,    0.        ]), array([ 160.52530238, -100.39254091,    0.        ]), array([-144.7018835, -124.2841868,    0.       ]), array([184.90555977,  62.81343185,   0.        ]), array([184.90555977,  62.81343185,   0.        ]), array([-48.98814989, 189.50585792,   0.        ]), array([ -15.33309093, -195.64917061,    0.        ]), array([172.24919526, -94.04209892,   0.        ]), array([ -27.05698382, -201.99961259,    0.        ]), array([183.97308815, -87.69165694,   0.        ]), array([184.90555977, -87.18656815,   0.        ]), array([184.90555977, -87.18656815,   0.        ]), array([-60.71204278, 195.8562999 ,   0.        ]), array([196.62945266,  69.16387383,   0.        ]), array([ -38.78087671, -208.35005457,    0.        ]), array([-72.43593567, 202.20674188,   0.        ]), array([196.62945266, -93.53701013,   0.        ]), array([ -50.50476959, -214.70049656,    0.        ])], 'Labels': ['Wall', 'Wall', 'Wall', 'Wall', 'Wall', 'Wall', 'Wall', 'Wall', 'Wall', 'Wall', 'Wall', 'Wall', 'Wall', 'Wall', 'Wall', 'Wall', 'Wall', 'Wall', 'Wall', 'Wall', 'Wall', 'Wall', 'Wall', 'Wall', 'Wall', 'Wall', 'Wall', 'Wall', 'Wall', 'Wall', 'Wall', 'Wall', 'Wall', 'Wall', 'Agent', 'Wall', 'Wall', 'Wall', 'Wall', 'Wall', 'Wall', 'Wall', 'Wall', 'Wall', 'Wall', 'Wall', 'Wall', 'Wall', 'Wall', 'Wall']}"
   ]
  },
  {
   "cell_type": "code",
   "execution_count": 8,
   "id": "9dcf08b5-9de8-4a04-9730-629f8d5eb677",
   "metadata": {},
   "outputs": [
    {
     "data": {
      "text/plain": [
       "50"
      ]
     },
     "execution_count": 8,
     "metadata": {},
     "output_type": "execute_result"
    }
   ],
   "source": [
    "len(vo2['Positions'])"
   ]
  },
  {
   "cell_type": "code",
   "execution_count": 6,
   "id": "4f24ec01-6c92-47cc-ba7b-ab49f4afa64c",
   "metadata": {},
   "outputs": [],
   "source": [
    "A = ESF()\n",
    "sec = A.getObjectSector(np.array([-200, 0]), 'Agent')"
   ]
  },
  {
   "cell_type": "code",
   "execution_count": 22,
   "id": "f3341968-3db7-4b4d-8e50-0bea660c24f5",
   "metadata": {},
   "outputs": [
    {
     "data": {
      "text/plain": [
       "70.00000000000001"
      ]
     },
     "execution_count": 22,
     "metadata": {},
     "output_type": "execute_result"
    }
   ],
   "source": [
    "A.getAngleDistFromDirToSectors(np.array([cos(50/180 * mh.pi), sin(50/180 * mh.pi)]), [sec])/mh.pi * 180.0"
   ]
  },
  {
   "cell_type": "code",
   "execution_count": 26,
   "id": "fa286ba3-65fa-449b-a7f8-e4a69def72e7",
   "metadata": {},
   "outputs": [],
   "source": [
    "sec1 = A.getObjectSector(np.array([1, 0]), 'Agent')\n",
    "sec2 = A.getObjectSector(np.array([0, 1]), 'Agent')\n",
    "vb = {'Positions': np.array([[0, -150], [-50, 100], [50, 100]]), 'Labels': ['Agent', 'Wall', 'Wall']}"
   ]
  },
  {
   "cell_type": "code",
   "execution_count": 62,
   "id": "217b4e4d-71ed-4d2e-90f3-8aa0735c77c3",
   "metadata": {},
   "outputs": [
    {
     "data": {
      "text/plain": [
       "array([2.4492936e-16, 4.0000000e+00, 0.0000000e+00])"
      ]
     },
     "execution_count": 62,
     "metadata": {},
     "output_type": "execute_result"
    }
   ],
   "source": [
    "w = 100\n",
    "step = 10\n",
    "m = 0\n",
    "mx = 100\n",
    "A.calcSpeed(\n",
    "    {'Positions': np.array([[0, -150]] + [[-w, k] for k in range(m, mx, step)] + [[w, k] for k in range(m, mx, step)]),\n",
    "     'Labels': ['Agent'] + ['Wall' for k in range(m, mx, step)] + ['Wall' for k in range(m, mx, step)]})"
   ]
  },
  {
   "cell_type": "code",
   "execution_count": 23,
   "id": "2a4d0826-db4d-4f6a-b16e-01b4b5582782",
   "metadata": {},
   "outputs": [
    {
     "name": "stdout",
     "output_type": "stream",
     "text": [
      "[array([ 0.5      , -0.8660254]), array([0.5      , 0.8660254])]\n",
      "[array([-173.20508076, -100.        ]), array([ 173.20508076, -100.        ])]\n"
     ]
    }
   ],
   "source": [
    "print(A.getObjectSector(np.array([1, 0]), 'Agent'))\n",
    "print(A.getObjectSector(np.array([0, -200]), 'Agent'))"
   ]
  },
  {
   "cell_type": "code",
   "execution_count": 5,
   "id": "b6efefc8-baa3-4866-a107-7536afa299c0",
   "metadata": {},
   "outputs": [
    {
     "name": "stdout",
     "output_type": "stream",
     "text": [
      "0.0\n",
      "30.000000000000007\n",
      "30.000000000000007\n",
      "0.0\n",
      "0.0\n",
      "30.000000000000007\n",
      "120.00000000000001\n",
      "120.00000000000001\n",
      "30.000000000000007\n"
     ]
    }
   ],
   "source": [
    "dst = A.getAngleDistFromDirToSector(np.array([1, 0]), sec1)\n",
    "print(dst / mh.pi * 180.0)\n",
    "dst = A.getAngleDistFromDirToSector(np.array([1, 0]), sec2)\n",
    "print(dst / mh.pi * 180.0)\n",
    "\n",
    "dst = A.getAngleDistFromDirToSector(np.array([0, 1]), sec1)\n",
    "print(dst / mh.pi * 180.0)\n",
    "dst = A.getAngleDistFromDirToSector(np.array([0, 1]), sec2)\n",
    "print(dst / mh.pi * 180.0)\n",
    "print(A.getAngleDistFromDirToSectors(np.array([-1, 1]), [sec1, sec2]) / mh.pi * 180.0)\n",
    "\n",
    "dst = A.getAngleDistFromDirToSector(np.array([0, -1]), sec1)\n",
    "print(dst / mh.pi * 180.0)\n",
    "dst = A.getAngleDistFromDirToSector(np.array([0, -1]), sec2)\n",
    "print(dst / mh.pi * 180.0)\n",
    "\n",
    "dst = A.getAngleDistFromDirToSector(np.array([-1, 0]), sec1)\n",
    "print(dst / mh.pi * 180.0)\n",
    "dst = A.getAngleDistFromDirToSector(np.array([-1, 0]), sec2)\n",
    "print(dst / mh.pi * 180.0)"
   ]
  },
  {
   "cell_type": "code",
   "execution_count": 10,
   "id": "88401771-9e8d-425d-8b12-d358416f1ec3",
   "metadata": {},
   "outputs": [
    {
     "data": {
      "text/plain": [
       "-60.0"
      ]
     },
     "execution_count": 10,
     "metadata": {},
     "output_type": "execute_result"
    }
   ],
   "source": [
    "la/mh.pi*180.0"
   ]
  },
  {
   "cell_type": "code",
   "execution_count": 11,
   "id": "40e41043-aec4-4abb-ad39-4bab92de3311",
   "metadata": {},
   "outputs": [
    {
     "data": {
      "text/plain": [
       "60.0"
      ]
     },
     "execution_count": 11,
     "metadata": {},
     "output_type": "execute_result"
    }
   ],
   "source": [
    "ra/mh.pi*180.0"
   ]
  },
  {
   "cell_type": "code",
   "execution_count": 9,
   "id": "e03926ae-402f-4857-a41f-c862198c1264",
   "metadata": {},
   "outputs": [
    {
     "data": {
      "text/plain": [
       "array([17, 39])"
      ]
     },
     "execution_count": 9,
     "metadata": {},
     "output_type": "execute_result"
    }
   ],
   "source": [
    "np.matmul(np.array([[1, 2], [3, 4]]), np.array([5, 6]))"
   ]
  },
  {
   "cell_type": "code",
   "execution_count": 3,
   "id": "d2bcccc2-35d4-4d4e-ae6c-1392d39814f2",
   "metadata": {},
   "outputs": [
    {
     "ename": "TypeError",
     "evalue": "runSimulator() missing 1 required positional argument: 'metricsWriter'",
     "output_type": "error",
     "traceback": [
      "\u001b[0;31m---------------------------------------------------------------------------\u001b[0m",
      "\u001b[0;31mTypeError\u001b[0m                                 Traceback (most recent call last)",
      "Cell \u001b[0;32mIn[3], line 1\u001b[0m\n\u001b[0;32m----> 1\u001b[0m \u001b[43mrunSimulator\u001b[49m\u001b[43m(\u001b[49m\u001b[43mMaze3SceneGenerator\u001b[49m\u001b[43m(\u001b[49m\u001b[43m)\u001b[49m\u001b[43m,\u001b[49m\u001b[43m \u001b[49m\u001b[43mSA\u001b[49m\u001b[43m(\u001b[49m\u001b[43mspeedCoef\u001b[49m\u001b[43m \u001b[49m\u001b[38;5;241;43m=\u001b[39;49m\u001b[43m \u001b[49m\u001b[38;5;241;43m12\u001b[39;49m\u001b[43m,\u001b[49m\u001b[43m \u001b[49m\u001b[43msectorCount\u001b[49m\u001b[43m \u001b[49m\u001b[38;5;241;43m=\u001b[39;49m\u001b[43m \u001b[49m\u001b[38;5;241;43m6\u001b[39;49m\u001b[43m)\u001b[49m\u001b[43m,\u001b[49m\u001b[43m \u001b[49m\u001b[43mmetricsPrint\u001b[49m\u001b[43m,\u001b[49m\u001b[43m \u001b[49m\u001b[43mwidth\u001b[49m\u001b[43m \u001b[49m\u001b[38;5;241;43m=\u001b[39;49m\u001b[43m \u001b[49m\u001b[43mDEFAULT_WIDTH\u001b[49m\u001b[43m \u001b[49m\u001b[38;5;241;43m*\u001b[39;49m\u001b[43m \u001b[49m\u001b[38;5;241;43m2\u001b[39;49m\u001b[43m,\u001b[49m\u001b[43m \u001b[49m\u001b[43mO\u001b[49m\u001b[43m \u001b[49m\u001b[38;5;241;43m=\u001b[39;49m\u001b[43m \u001b[49m\u001b[43m[\u001b[49m\u001b[43mDEFAULT_WIDTH\u001b[49m\u001b[43m,\u001b[49m\u001b[43m \u001b[49m\u001b[43mDEFAULT_HEIGHT\u001b[49m\u001b[43m \u001b[49m\u001b[38;5;241;43m*\u001b[39;49m\u001b[43m \u001b[49m\u001b[38;5;241;43m0.5\u001b[39;49m\u001b[43m,\u001b[49m\u001b[43m \u001b[49m\u001b[38;5;241;43m0\u001b[39;49m\u001b[43m]\u001b[49m\u001b[43m,\u001b[49m\u001b[43m \u001b[49m\u001b[43manchor_generation_count\u001b[49m\u001b[43m \u001b[49m\u001b[38;5;241;43m=\u001b[39;49m\u001b[43m \u001b[49m\u001b[38;5;241;43m5\u001b[39;49m\u001b[43m)\u001b[49m\n",
      "\u001b[0;31mTypeError\u001b[0m: runSimulator() missing 1 required positional argument: 'metricsWriter'"
     ]
    }
   ],
   "source": [
    "runSimulator(Maze3SceneGenerator(), SA(speedCoef = 12, sectorCount = 6), metricsPrint, width = DEFAULT_WIDTH * 2, O = [DEFAULT_WIDTH, DEFAULT_HEIGHT * 0.5, 0], anchor_generation_count = 5)"
   ]
  },
  {
   "cell_type": "code",
   "execution_count": 2,
   "id": "2b4a14d6",
   "metadata": {},
   "outputs": [],
   "source": [
    "from numpy import array\n",
    "N = [[38.32438558696876, array([-34.00276514,  17.67966327,   0.        ])], [84.42833258601745, array([63.08966406, 56.10559359,  0.        ])], [109.02446404244479, array([105.24010467,  28.4755005 ,   0.        ])], [119.7426820138345, array([110.68717336,  45.67996879,   0.        ])], [77.21935548475878, array([-18.95252733,  74.85740157,   0.        ])], [55.56156357771031, array([ 5.20990829, 55.3167624 ,  0.        ])], [63.47671747662296, array([-59.11154248,  23.13264377,   0.        ])], [75.3076533197036, array([ 66.80259196, -34.76573538,   0.        ])], [84.58451456730053, array([67.42611717, 51.0711154 ,  0.        ])], [104.52562545146137, array([34.80428208, 98.56098784,  0.        ])], [26.523364088999582, array([-24.47867278,  10.21192546,   0.        ])], [2.232185784639499, array([-0.80396527,  2.08237682,  0.        ])], [35.78496555251286, array([-27.79970875,  22.53308574,   0.        ])], [17.925815527195017, array([ 9.65582544, 15.10297644,  0.        ])], [35.387904059745125, array([-34.83788875,  -6.21492248,   0.        ])], [89.89722554350948, array([81.61408628, 37.69153859,  0.        ])], [48.02670552674753, array([  3.60640639, -47.89110853,   0.        ])], [75.27595525487013, array([ 1.41550743, 75.2626453 ,  0.        ])], [81.11031664481199, array([80.59993009, -9.08486302,  0.        ])], [88.85720686864252, array([77.12900714, 44.12164401,  0.        ])], [94.03924582167885, array([87.95812952, 33.26781037,  0.        ])], [60.85962895068694, array([-32.13457705,  51.68426641,   0.        ])], [77.77913072146637, array([ 7.89678489, 77.37721864,  0.        ])], [19.548435604917902, array([-12.29999289, -15.19379839,   0.        ])], [149.40677244571035, array([ 99.28572452, 111.64554877,   0.        ])], [56.80991044275909, array([-31.81371148,  47.06648156,   0.        ])], [109.55853832431166, array([ 36.57388883, 103.27353957,   0.        ])], [135.71814980731443, array([ 14.57494384, 134.93326943,   0.        ])], [51.79126807717489, array([ 47.91981322, -19.64756856,   0.        ])], [37.2066034655892, array([36.87006595, -4.99295288,  0.        ])], [85.04472720162354, array([16.86495754, 83.35573665,  0.        ])], [11.979542128900121, array([-11.96663105,  -0.55603131,   0.        ])], [43.29760119387879, array([31.21680991, 30.00321729,  0.        ])], [6.7611475889447386, array([-6.74611218, -0.4506519 ,  0.        ])], [88.20665642492632, array([83.82556557, 27.45339313,  0.        ])], [32.455422825708524, array([32.34162293, -2.71549203,  0.        ])], [87.99204739221351, array([-11.90621218,  87.1828109 ,   0.        ])], [47.239633732452965, array([47.16250928, -2.69827977,  0.        ])], [48.85763670667016, array([46.00591425, 16.44762957,  0.        ])], [38.73760732381845, array([1.86209646e-02, 3.87376028e+01, 0.00000000e+00])], [39.75151494127021, array([28.72927641, 27.47383514,  0.        ])], [146.20142469168752, array([ 97.08831104, 109.31018452,   0.        ])], [87.94383972588496, array([-44.84252741,  75.65227479,   0.        ])], [57.56671926585097, array([44.44900495, 36.58159546,  0.        ])], [59.0056982639959, array([36.4562373 , 46.39628422,  0.        ])], [82.97208433159717, array([81.30995031, 16.52448966,  0.        ])], [72.95514295511724, array([-15.48920472,  71.29191694,   0.        ])], [93.16749767129505, array([ 88.67451467, -28.58344049,   0.        ])], [88.72308287513549, array([63.04390641, 62.42796888,  0.        ])], [197.6213000319093, array([-166.36225668,  106.66666667,    0.        ])], [190.7551088690294, array([-166.36225668,   93.33333333,    0.        ])], [184.5979426985148, array([-166.36225668,   80.        ,    0.        ])], [179.22289165441057, array([-166.36225668,   66.66666667,    0.        ])], [174.70216052747773, array([-166.36225668,   53.33333333,    0.        ])], [171.10347877388162, array([-166.36225668,   40.        ,    0.        ])], [168.485938759397, array([-166.36225668,   26.66666667,    0.        ])], [166.89571062882933, array([-166.36225668,   13.33333333,    0.        ])], [166.3622566825906, array([-1.66362257e+02, -9.23705556e-14,  0.00000000e+00])], [166.89571062882936, array([-166.36225668,  -13.33333333,    0.        ])], [168.48593875939702, array([-166.36225668,  -26.66666667,    0.        ])], [171.10347877388165, array([-166.36225668,  -40.        ,    0.        ])], [174.7021605274778, array([-166.36225668,  -53.33333333,    0.        ])], [179.22289165441066, array([-166.36225668,  -66.66666667,    0.        ])], [184.59794269851486, array([-166.36225668,  -80.        ,    0.        ])], [190.7551088690295, array([-166.36225668,  -93.33333333,    0.        ])], [197.6213000319094, array([-166.36225668, -106.66666667,    0.        ])], [195.36444204397887, array([183.63774332,  66.66666667,   0.        ])], [191.22569182815153, array([183.63774332,  53.33333333,   0.        ])], [187.94366382166422, array([183.63774332,  40.        ,   0.        ])], [185.5638215865955, array([183.63774332,  26.66666667,   0.        ])], [184.12115182262062, array([183.63774332,  13.33333333,   0.        ])], [183.6377433174094, array([ 1.83637743e+02, -7.10542736e-15,  0.00000000e+00])], [184.12115182262062, array([183.63774332, -13.33333333,   0.        ])], [185.5638215865955, array([183.63774332, -26.66666667,   0.        ])], [187.94366382166422, array([183.63774332, -40.        ,   0.        ])], [191.22569182815153, array([183.63774332, -53.33333333,   0.        ])], [195.36444204397887, array([183.63774332, -66.66666667,   0.        ])]]"
   ]
  },
  {
   "cell_type": "code",
   "execution_count": 16,
   "id": "e3f3c4df-2eb2-4b6d-a1d5-5faef1a06666",
   "metadata": {},
   "outputs": [
    {
     "data": {
      "text/plain": [
       "\u001b[0;31mDocstring:\u001b[0m\n",
       "a.sort(axis=-1, kind=None, order=None)\n",
       "\n",
       "Sort an array in-place. Refer to `numpy.sort` for full documentation.\n",
       "\n",
       "Parameters\n",
       "----------\n",
       "axis : int, optional\n",
       "    Axis along which to sort. Default is -1, which means sort along the\n",
       "    last axis.\n",
       "kind : {'quicksort', 'mergesort', 'heapsort', 'stable'}, optional\n",
       "    Sorting algorithm. The default is 'quicksort'. Note that both 'stable'\n",
       "    and 'mergesort' use timsort under the covers and, in general, the\n",
       "    actual implementation will vary with datatype. The 'mergesort' option\n",
       "    is retained for backwards compatibility.\n",
       "\n",
       "    .. versionchanged:: 1.15.0\n",
       "       The 'stable' option was added.\n",
       "\n",
       "order : str or list of str, optional\n",
       "    When `a` is an array with fields defined, this argument specifies\n",
       "    which fields to compare first, second, etc.  A single field can\n",
       "    be specified as a string, and not all fields need be specified,\n",
       "    but unspecified fields will still be used, in the order in which\n",
       "    they come up in the dtype, to break ties.\n",
       "\n",
       "See Also\n",
       "--------\n",
       "numpy.sort : Return a sorted copy of an array.\n",
       "numpy.argsort : Indirect sort.\n",
       "numpy.lexsort : Indirect stable sort on multiple keys.\n",
       "numpy.searchsorted : Find elements in sorted array.\n",
       "numpy.partition: Partial sort.\n",
       "\n",
       "Notes\n",
       "-----\n",
       "See `numpy.sort` for notes on the different sorting algorithms.\n",
       "\n",
       "Examples\n",
       "--------\n",
       ">>> a = np.array([[1,4], [3,1]])\n",
       ">>> a.sort(axis=1)\n",
       ">>> a\n",
       "array([[1, 4],\n",
       "       [1, 3]])\n",
       ">>> a.sort(axis=0)\n",
       ">>> a\n",
       "array([[1, 3],\n",
       "       [1, 4]])\n",
       "\n",
       "Use the `order` keyword to specify a field to use when sorting a\n",
       "structured array:\n",
       "\n",
       ">>> a = np.array([('a', 2), ('c', 1)], dtype=[('x', 'S1'), ('y', int)])\n",
       ">>> a.sort(order='y')\n",
       ">>> a\n",
       "array([(b'c', 1), (b'a', 2)],\n",
       "      dtype=[('x', 'S1'), ('y', '<i8')])\n",
       "\u001b[0;31mType:\u001b[0m      builtin_function_or_method"
      ]
     },
     "metadata": {},
     "output_type": "display_data"
    }
   ],
   "source": [
    "?a.sort"
   ]
  },
  {
   "cell_type": "code",
   "execution_count": 7,
   "id": "73952aba",
   "metadata": {},
   "outputs": [],
   "source": [
    "a = array([1, 2, 3])"
   ]
  },
  {
   "cell_type": "code",
   "execution_count": 12,
   "id": "cf0fcad5-5074-409b-b318-7460cec8efe4",
   "metadata": {},
   "outputs": [
    {
     "data": {
      "text/plain": [
       "[1, 2, 3, 4]"
      ]
     },
     "execution_count": 12,
     "metadata": {},
     "output_type": "execute_result"
    }
   ],
   "source": [
    "[1, 2, 3] + [4]"
   ]
  },
  {
   "cell_type": "code",
   "execution_count": 10,
   "id": "f253d510",
   "metadata": {},
   "outputs": [
    {
     "data": {
      "text/plain": [
       "[[2.232185784639499, array([-0.80396527,  2.08237682,  0.        ])],\n",
       " [6.7611475889447386, array([-6.74611218, -0.4506519 ,  0.        ])],\n",
       " [11.979542128900121, array([-11.96663105,  -0.55603131,   0.        ])],\n",
       " [17.925815527195017, array([ 9.65582544, 15.10297644,  0.        ])],\n",
       " [19.548435604917902, array([-12.29999289, -15.19379839,   0.        ])],\n",
       " [26.523364088999582, array([-24.47867278,  10.21192546,   0.        ])],\n",
       " [32.455422825708524, array([32.34162293, -2.71549203,  0.        ])],\n",
       " [35.387904059745125, array([-34.83788875,  -6.21492248,   0.        ])],\n",
       " [35.78496555251286, array([-27.79970875,  22.53308574,   0.        ])],\n",
       " [37.2066034655892, array([36.87006595, -4.99295288,  0.        ])],\n",
       " [38.32438558696876, array([-34.00276514,  17.67966327,   0.        ])],\n",
       " [43.29760119387879, array([31.21680991, 30.00321729,  0.        ])],\n",
       " [47.239633732452965, array([47.16250928, -2.69827977,  0.        ])],\n",
       " [48.02670552674753, array([  3.60640639, -47.89110853,   0.        ])],\n",
       " [48.85763670667016, array([46.00591425, 16.44762957,  0.        ])],\n",
       " [51.79126807717489, array([ 47.91981322, -19.64756856,   0.        ])],\n",
       " [55.56156357771031, array([ 5.20990829, 55.3167624 ,  0.        ])],\n",
       " [56.80991044275909, array([-31.81371148,  47.06648156,   0.        ])],\n",
       " [60.85962895068694, array([-32.13457705,  51.68426641,   0.        ])],\n",
       " [63.47671747662296, array([-59.11154248,  23.13264377,   0.        ])],\n",
       " [75.27595525487013, array([ 1.41550743, 75.2626453 ,  0.        ])],\n",
       " [75.3076533197036, array([ 66.80259196, -34.76573538,   0.        ])],\n",
       " [77.21935548475878, array([-18.95252733,  74.85740157,   0.        ])],\n",
       " [77.77913072146637, array([ 7.89678489, 77.37721864,  0.        ])],\n",
       " [81.11031664481199, array([80.59993009, -9.08486302,  0.        ])],\n",
       " [84.42833258601745, array([63.08966406, 56.10559359,  0.        ])],\n",
       " [84.58451456730053, array([67.42611717, 51.0711154 ,  0.        ])],\n",
       " [85.04472720162354, array([16.86495754, 83.35573665,  0.        ])],\n",
       " [87.99204739221351, array([-11.90621218,  87.1828109 ,   0.        ])],\n",
       " [88.20665642492632, array([83.82556557, 27.45339313,  0.        ])],\n",
       " [88.85720686864252, array([77.12900714, 44.12164401,  0.        ])],\n",
       " [89.89722554350948, array([81.61408628, 37.69153859,  0.        ])],\n",
       " [94.03924582167885, array([87.95812952, 33.26781037,  0.        ])],\n",
       " [104.52562545146137, array([34.80428208, 98.56098784,  0.        ])],\n",
       " [109.02446404244479, array([105.24010467,  28.4755005 ,   0.        ])],\n",
       " [109.55853832431166, array([ 36.57388883, 103.27353957,   0.        ])],\n",
       " [119.7426820138345, array([110.68717336,  45.67996879,   0.        ])],\n",
       " [135.71814980731443, array([ 14.57494384, 134.93326943,   0.        ])],\n",
       " [149.40677244571035, array([ 99.28572452, 111.64554877,   0.        ])],\n",
       " [38.73760732381845, array([1.86209646e-02, 3.87376028e+01, 0.00000000e+00])],\n",
       " [39.75151494127021, array([28.72927641, 27.47383514,  0.        ])],\n",
       " [57.56671926585097, array([44.44900495, 36.58159546,  0.        ])],\n",
       " [59.0056982639959, array([36.4562373 , 46.39628422,  0.        ])],\n",
       " [72.95514295511724, array([-15.48920472,  71.29191694,   0.        ])],\n",
       " [82.97208433159717, array([81.30995031, 16.52448966,  0.        ])],\n",
       " [87.94383972588496, array([-44.84252741,  75.65227479,   0.        ])],\n",
       " [88.72308287513549, array([63.04390641, 62.42796888,  0.        ])],\n",
       " [93.16749767129505, array([ 88.67451467, -28.58344049,   0.        ])],\n",
       " [146.20142469168752, array([ 97.08831104, 109.31018452,   0.        ])],\n",
       " [166.3622566825906,\n",
       "  array([-1.66362257e+02, -9.23705556e-14,  0.00000000e+00])],\n",
       " [166.89571062882933, array([-166.36225668,   13.33333333,    0.        ])],\n",
       " [166.89571062882936, array([-166.36225668,  -13.33333333,    0.        ])],\n",
       " [168.485938759397, array([-166.36225668,   26.66666667,    0.        ])],\n",
       " [168.48593875939702, array([-166.36225668,  -26.66666667,    0.        ])],\n",
       " [171.10347877388162, array([-166.36225668,   40.        ,    0.        ])],\n",
       " [171.10347877388165, array([-166.36225668,  -40.        ,    0.        ])],\n",
       " [174.70216052747773, array([-166.36225668,   53.33333333,    0.        ])],\n",
       " [174.7021605274778, array([-166.36225668,  -53.33333333,    0.        ])],\n",
       " [179.22289165441057, array([-166.36225668,   66.66666667,    0.        ])],\n",
       " [179.22289165441066, array([-166.36225668,  -66.66666667,    0.        ])],\n",
       " [183.6377433174094,\n",
       "  array([ 1.83637743e+02, -7.10542736e-15,  0.00000000e+00])],\n",
       " [184.12115182262062, array([183.63774332,  13.33333333,   0.        ])],\n",
       " [184.5979426985148, array([-166.36225668,   80.        ,    0.        ])],\n",
       " [184.59794269851486, array([-166.36225668,  -80.        ,    0.        ])],\n",
       " [185.5638215865955, array([183.63774332,  26.66666667,   0.        ])],\n",
       " [187.94366382166422, array([183.63774332,  40.        ,   0.        ])],\n",
       " [190.7551088690294, array([-166.36225668,   93.33333333,    0.        ])],\n",
       " [190.7551088690295, array([-166.36225668,  -93.33333333,    0.        ])],\n",
       " [191.22569182815153, array([183.63774332,  53.33333333,   0.        ])],\n",
       " [195.36444204397887, array([183.63774332,  66.66666667,   0.        ])],\n",
       " [197.6213000319093, array([-166.36225668,  106.66666667,    0.        ])],\n",
       " [197.6213000319094, array([-166.36225668, -106.66666667,    0.        ])],\n",
       " [184.12115182262062, array([183.63774332, -13.33333333,   0.        ])],\n",
       " [185.5638215865955, array([183.63774332, -26.66666667,   0.        ])],\n",
       " [187.94366382166422, array([183.63774332, -40.        ,   0.        ])],\n",
       " [191.22569182815153, array([183.63774332, -53.33333333,   0.        ])],\n",
       " [195.36444204397887, array([183.63774332, -66.66666667,   0.        ])]]"
      ]
     },
     "execution_count": 10,
     "metadata": {},
     "output_type": "execute_result"
    }
   ],
   "source": [
    "N"
   ]
  },
  {
   "cell_type": "code",
   "execution_count": 4,
   "id": "3ee7e19a",
   "metadata": {},
   "outputs": [],
   "source": [
    "N = [[7, np.array([0.2, 0.1, 0.3])], [2, np.array([0.3, 0.1, 0.3])], [4, np.array([0.5, 0.1, 0.3])], [5, np.array([0.2, 0.1, 0.9])]]"
   ]
  },
  {
   "cell_type": "code",
   "execution_count": 11,
   "id": "21091bbd",
   "metadata": {},
   "outputs": [],
   "source": [
    "N.sort()"
   ]
  },
  {
   "cell_type": "code",
   "execution_count": 5,
   "id": "26b71f5e",
   "metadata": {},
   "outputs": [
    {
     "data": {
      "text/plain": [
       "[[2, array([0.3, 0.1, 0.3])],\n",
       " [4, array([0.5, 0.1, 0.3])],\n",
       " [5, array([0.2, 0.1, 0.9])],\n",
       " [7, array([0.2, 0.1, 0.3])]]"
      ]
     },
     "execution_count": 5,
     "metadata": {},
     "output_type": "execute_result"
    }
   ],
   "source": [
    "N"
   ]
  },
  {
   "cell_type": "code",
   "execution_count": 6,
   "id": "2223fd73",
   "metadata": {},
   "outputs": [
    {
     "data": {
      "text/plain": [
       "array([2.5, 3.5, 5. ])"
      ]
     },
     "execution_count": 6,
     "metadata": {},
     "output_type": "execute_result"
    }
   ],
   "source": [
    "np.mean(np.array([[1, 2, 3], [4, 5, 7]]), axis = 0)"
   ]
  },
  {
   "cell_type": "code",
   "execution_count": 6,
   "id": "27334c74-c388-4281-97c0-05716d01beac",
   "metadata": {},
   "outputs": [
    {
     "data": {
      "text/plain": [
       "True"
      ]
     },
     "execution_count": 6,
     "metadata": {},
     "output_type": "execute_result"
    }
   ],
   "source": [
    "issubclass(SSND, DSSA)"
   ]
  },
  {
   "cell_type": "code",
   "execution_count": 11,
   "id": "7aa5c747-5a5f-4f2b-a196-439c76b42560",
   "metadata": {},
   "outputs": [
    {
     "data": {
      "text/plain": [
       "array([0.4, 0.2])"
      ]
     },
     "execution_count": 11,
     "metadata": {},
     "output_type": "execute_result"
    }
   ],
   "source": [
    "getPointToSegmentProjection(np.array([0, 0]), np.array([0.5, 0]), np.array([0, 1]))"
   ]
  },
  {
   "cell_type": "code",
   "execution_count": 6,
   "id": "c4fb787d-ec88-464c-ac7c-0f9e499f1306",
   "metadata": {},
   "outputs": [
    {
     "data": {
      "text/plain": [
       "array([5, 4, 3, 7])"
      ]
     },
     "execution_count": 6,
     "metadata": {},
     "output_type": "execute_result"
    }
   ],
   "source": [
    "arr = np.array([5, 4, 3, 5, 7])\n",
    "arr[np.array([1, 2, 3, 0, 2]) > 0]"
   ]
  },
  {
   "cell_type": "code",
   "execution_count": 8,
   "id": "487e263a-b904-413e-ac17-6689e00449ab",
   "metadata": {},
   "outputs": [
    {
     "data": {
      "text/plain": [
       "array([1, 2, 3])"
      ]
     },
     "execution_count": 8,
     "metadata": {},
     "output_type": "execute_result"
    }
   ],
   "source": [
    "np.array([1, 2, 3]).transpose()"
   ]
  },
  {
   "cell_type": "code",
   "execution_count": 11,
   "id": "e540a6d0-f157-4096-8d2a-3c3d0901f76d",
   "metadata": {},
   "outputs": [
    {
     "data": {
      "text/plain": [
       "array([[1.        , 0.5       , 0.33333333, 0.25      ],\n",
       "       [1.        , 0.5       , 0.33333333, 0.25      ],\n",
       "       [1.        , 0.5       , 0.33333333, 0.25      ],\n",
       "       [1.        , 0.5       , 0.33333333, 0.25      ],\n",
       "       [1.        , 0.5       , 0.33333333, 0.25      ]])"
      ]
     },
     "execution_count": 11,
     "metadata": {},
     "output_type": "execute_result"
    }
   ],
   "source": [
    "np.ones([4, 5]).T / np.array([1, 2, 3, 4])"
   ]
  },
  {
   "cell_type": "code",
   "execution_count": 7,
   "id": "c0720920",
   "metadata": {},
   "outputs": [
    {
     "data": {
      "text/plain": [
       "array([[5, 6],\n",
       "       [1, 2],\n",
       "       [3, 4]])"
      ]
     },
     "execution_count": 7,
     "metadata": {},
     "output_type": "execute_result"
    }
   ],
   "source": [
    "np.roll([[1, 2], [3, 4], [5, 6]], 2)"
   ]
  },
  {
   "cell_type": "code",
   "execution_count": null,
   "id": "fc144c8e",
   "metadata": {},
   "outputs": [],
   "source": [
    "#Multiple running\n",
    "for i, sceneGenerator in enumerate(scenes):\n",
    "    A = As[i]\n",
    "    algorithms = [CSA(), SA(), SODA(A), DSSA(A), SSND(A), VFASF(), SWARM()]\n",
    "    for algorithm in algorithms:\n",
    "        runSimulator(sceneGenerator, algorithm, metricsPrint, widths[i], heights[i], np.array([widths[i] * 0.5, heights[i] * 0.5, 0]))"
   ]
  },
  {
   "cell_type": "code",
   "execution_count": 2,
   "id": "49cc4c15",
   "metadata": {},
   "outputs": [
    {
     "name": "stdout",
     "output_type": "stream",
     "text": [
      "35\t3.92\t119.17467927804609\t2.556042308902794\t93.11881005853981\t0.10394360474669387\t2.1479790090984223\n",
      "35\t3.16\t107.65621931585142\t2.545764175052714\t91.06715511210928\t0.2071766331556812\t2.3033596631745286\n",
      "35\t48.0\t4679.908460291121\t2.1129632474818782\t80.98284304701593\t0.4178815640101852\t3.2443866766837672\n",
      "35\t48.0\t6533.0215528711005\t2.1680741238281382\t81.15312396450793\t0.4206415865149754\t3.11062712230728\n",
      "35\t48.0\t1185.8797523962905\t2.0679481697827367\t80.76746069732337\t0.40392447352900807\t3.2555133918132935\n",
      "35\t7.54\t84.29674119330431\t2.0141888813499236\t81.33721144287766\t0.30233906088264684\t3.354970744124546\n",
      "35\t48.0\t6713.616577632802\t2.0285947952760726\t74.92636500865211\t0.39984984609230473\t4.976616332153699\n"
     ]
    }
   ],
   "source": [
    "A = 1000 * 1000 - 100 * 100 * 2\n",
    "algorithms = [CSA(), SA(), SODA(A), DSSA(A), SSND(A), VFASF(), SWARM()]    \n",
    "\n",
    "for algorithm in algorithms:\n",
    "    runSimulator(TwoBoxesSceneGenerator(), algorithm, metricsPrint)"
   ]
  },
  {
   "cell_type": "code",
   "execution_count": 1,
   "id": "d6c4b2ae-69a3-446b-97b8-fa067ec8c001",
   "metadata": {},
   "outputs": [
    {
     "ename": "NameError",
     "evalue": "name 'runSimulator' is not defined",
     "output_type": "error",
     "traceback": [
      "\u001b[0;31m---------------------------------------------------------------------------\u001b[0m",
      "\u001b[0;31mNameError\u001b[0m                                 Traceback (most recent call last)",
      "Cell \u001b[0;32mIn[1], line 1\u001b[0m\n\u001b[0;32m----> 1\u001b[0m \u001b[43mrunSimulator\u001b[49m(ZigZagSceneGenerator(), SA(), metricsPrint)\n",
      "\u001b[0;31mNameError\u001b[0m: name 'runSimulator' is not defined"
     ]
    }
   ],
   "source": [
    "runSimulator(ZigZagSceneGenerator(), SA(), metricsPrint)"
   ]
  },
  {
   "cell_type": "code",
   "execution_count": 3,
   "id": "a6cf4439-e0d3-4e56-a980-59a1af0fb196",
   "metadata": {},
   "outputs": [],
   "source": [
    "runSimulator(OSceneGenerator(), SWARM(), metricsPrint)"
   ]
  },
  {
   "cell_type": "code",
   "execution_count": null,
   "id": "419d143d-58bb-4b3d-93c7-1e903b4c1ded",
   "metadata": {},
   "outputs": [],
   "source": [
    "import simulator_executor\n",
    "from simulator_executor import runSimulator\n",
    "from SWARM_algorithm import SWARMAlgorithm as SWARM\n",
    "from VFASF_algorithm import VFASFAlgorithm as VFASF\n",
    "import scene_preparer\n",
    "from scene_preparer import *\n",
    "import threading\n",
    "\n",
    "class simulatorThread(threading.Thread):\n",
    "    def __init__(self, sceneGenerator, spawnCenter, algorithm, algName, pathToResults):\n",
    "        threading.Thread.__init__(self)\n",
    "        self.sceneGenerator = sceneGenerator\n",
    "        self.spawnCenter = spawnCenter\n",
    "        self.algorithm = algorithm\n",
    "        self.file = open(pathToResults, \"a\")\n",
    "        self.algName = algName\n",
    "\n",
    "    def metricsFileWriter(self, rCnt, elapsedTime, energy, meanDistance, covaragePercentage, uniformity, sensorCoverageUniformity):\n",
    "        print(self.algName+\"\\t\"+str(rCnt) + \"\\t\" + str(elapsedTime) + \"\\t\" + str(energy) + \"\\t\" + str(meanDistance) + \"\\t\" + str(covaragePercentage) + \"\\t\" + str(uniformity) + \"\\t\" + str(sensorCoverageUniformity))\n",
    "        self.file.write(str(rCnt) + \"\\t\" + str(elapsedTime) + \"\\t\" + str(energy) + \"\\t\" + str(meanDistance) + \"\\t\" + str(covaragePercentage) + \"\\t\" + str(uniformity) + \"\\t\" + str(sensorCoverageUniformity) + \"\\n\")\n",
    "    \n",
    "    def run(self):\n",
    "        print('Start ' + self.algName)\n",
    "        runSimulator(self.sceneGenerator, self.spawnCenter, self.algorithm, self.metricsFileWriter)\n",
    "        self.file.close()\n",
    "        print('End ' + self.algName)\n",
    "\n",
    "tVFASFOScene = simulatorThread(generateOscene, np.array([-300, 0, 0]), VFASF(), 'VFASFOScene', 'VFASFOSceneResults.txt')\n",
    "tVFASFZigZagScene = simulatorThread(generateZigZagScene, np.array([-500, 0, 0]), VFASF(), 'VFASFZigZagScene', 'VFASFZigZagSceneResults.txt')\n",
    "tVFASFButterflyScene = simulatorThread(generateButterflyScene, np.array([-300, 0, 0]), VFASF(), 'VFASFButterflyScene', 'VFASFButterflySceneResults.txt')\n",
    "tSWARMOScene = simulatorThread(generateOscene, np.array([-300, 0, 0]), SWARM(), 'SWARMOScene', 'SWARMOSceneResults.txt')\n",
    "tSWARMZigZagScene = simulatorThread(generateZigZagScene, np.array([-500, 0, 0]), SWARM(), 'SWARMZigZagScene', 'SWARMZigZagSceneResults.txt')\n",
    "tSWARMButterflyScene = simulatorThread(generateButterflyScene, np.array([-300, 0, 0]), SWARM(), 'SWARMButterflyScene', 'SWARMButterflySceneResults.txt')\n",
    "\n",
    "tVFASFOScene.start()\n",
    "tVFASFZigZagScene.start()\n",
    "tVFASFButterflyScene.start()\n",
    "tSWARMOScene.start()\n",
    "tSWARMZigZagScene.start()\n",
    "tSWARMButterflyScene.start()\n"
   ]
  }
 ],
 "metadata": {
  "kernelspec": {
   "display_name": "Python 3 (ipykernel)",
   "language": "python",
   "name": "python3"
  },
  "language_info": {
   "codemirror_mode": {
    "name": "ipython",
    "version": 3
   },
   "file_extension": ".py",
   "mimetype": "text/x-python",
   "name": "python",
   "nbconvert_exporter": "python",
   "pygments_lexer": "ipython3",
   "version": "3.11.4"
  }
 },
 "nbformat": 4,
 "nbformat_minor": 5
}
