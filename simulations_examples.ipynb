{
 "cells": [
  {
   "cell_type": "code",
   "execution_count": null,
   "id": "0f52323d-f589-42ed-b8eb-d953130643b1",
   "metadata": {},
   "outputs": [
    {
     "name": "stdout",
     "output_type": "stream",
     "text": [
      "pygame 2.1.2 (SDL 2.0.16, Python 3.8.10)\n",
      "Hello from the pygame community. https://www.pygame.org/contribute.html\n",
      "43\t14.14\t184.398079138476\t2.643340911815315\t99.44263744592162\t0.34855618102925945\t4.583774742359436\n",
      "43\t6.54\t129.63017767681103\t2.0569530131806926\t97.53213124072379\t0.3893143777359642\t6.058956724857343\n",
      "43\t48.0\t8070.657103777929\t0.7976663098787842\t47.35371206618878\t0.548132708700927\t11.222596675132765\n",
      "43\t48.0\t8255.974720082855\t0.9109975344327959\t47.29844949000537\t0.5454659102578318\t11.13503920784641\n",
      "43\t48.0\t310.2376139283241\t0.7841918937003256\t47.230555467837185\t0.545508443644709\t11.238436343653458\n",
      "43\t48.0\t392.6255826922169\t1.407275791848737\t69.26295512678814\t0.395900503159394\t7.1398154416654735\n",
      "43\t48.0\t8255.458876772444\t0.8853495119320718\t36.98013705118893\t0.27973167326991155\t15.09581888667719\n",
      "43\t44.06\t427.3641331397811\t4.159425409266129\t98.42798005375461\t0.2420468723925765\t2.868203852423653\n",
      "43\t24.400000000000002\t297.9759173149637\t3.668199507014859\t95.42480835875587\t0.2883932708073844\t3.1480600202504725\n",
      "43\t48.0\t4725.0990853259955\t1.9671885295350584\t57.21322951145527\t0.47256042616496075\t6.211359228111182\n",
      "43\t48.0\t8085.8589088068\t2.0096070725269746\t58.88377077373802\t0.4585289615311893\t5.979740275722171\n",
      "43\t48.0\t644.7106439175989\t1.9613719553071922\t54.0441271789199\t0.47525215194452236\t6.032749383314764\n",
      "43\t13.06\t144.19251159038086\t1.8191242247583923\t48.31433485148344\t0.3736604792221199\t4.938610642854056\n",
      "43\t48.0\t8255.927525071858\t1.7177259834573284\t39.32556109617927\t0.4841130703819175\t7.313184139305377\n",
      "43\t14.38\t290.67362611825683\t3.6079457416733822\t100.0\t0.2494706089982062\t2.327120679703409\n",
      "43\t10.620000000000001\t267.9094712855206\t3.9495961246263067\t99.9990088116643\t0.2559237566442908\t1.8372355363469168\n"
     ]
    }
   ],
   "source": [
    "import simulator_executor\n",
    "from simulator_executor import runSimulator\n",
    "from coverage_problem_algorithms import \\\n",
    "    SWARMAlgorithm as SWARM, \\\n",
    "    VFASFAlgorithm as VFASF, \\\n",
    "    CSAAlgorithm as CSA, \\\n",
    "    SAAlgorithm as SA, \\\n",
    "    DSSAAlgorithm as DSSA, \\\n",
    "    SODAAlgorithm as SODA, \\\n",
    "    SSNDAlgorithm as SSND\n",
    "import scene_preparer\n",
    "from scene_preparer import *\n",
    "\n",
    "def metricsPrint(rCnt, elapsedTime, energy, meanDistance, covaragePercentage, uniformity, sensorCoverageUniformity):\n",
    "    print(str(rCnt) + \"\\t\" + str(elapsedTime) + \"\\t\" + str(energy) + \"\\t\" + str(meanDistance) + \"\\t\" + str(covaragePercentage) + \"\\t\" + str(uniformity) + \"\\t\" + str(sensorCoverageUniformity))\n",
    "\n",
    "widths = [604, 704, 504, 504]\n",
    "heights = [404, 504, 504, 504]\n",
    "As = [1200 * 800 - 0.5 * (800-150) * 1200, 1400 * 1000 - 600 * 600, 1000 * 1000 - 300 * 300, 1000 * 1000 - 100 * 100]\n",
    "scenes = [ButterflySceneGenerator(), ZigZagSceneGenerator(), OSceneGenerator(), TwoBoxesSceneGenerator()]\n",
    "\n",
    "for i, sceneGenerator in enumerate(scenes):\n",
    "    A = As[i]\n",
    "    algorithms = [CSA(), SA(), SODA(A), DSSA(A), SSND(A), VFASF(), SWARM()]\n",
    "    for algorithm in algorithms:\n",
    "        runSimulator(sceneGenerator, algorithm, metricsPrint, widths[i], heights[i], np.array([widths[i] * 0.5, heights[i] * 0.5, 0]))"
   ]
  },
  {
   "cell_type": "code",
   "execution_count": 2,
   "id": "49cc4c15",
   "metadata": {},
   "outputs": [
    {
     "name": "stdout",
     "output_type": "stream",
     "text": [
      "35\t3.92\t119.17467927804609\t2.556042308902794\t93.11881005853981\t0.10394360474669387\t2.1479790090984223\n",
      "35\t3.16\t107.65621931585142\t2.545764175052714\t91.06715511210928\t0.2071766331556812\t2.3033596631745286\n",
      "35\t48.0\t4679.908460291121\t2.1129632474818782\t80.98284304701593\t0.4178815640101852\t3.2443866766837672\n",
      "35\t48.0\t6533.0215528711005\t2.1680741238281382\t81.15312396450793\t0.4206415865149754\t3.11062712230728\n",
      "35\t48.0\t1185.8797523962905\t2.0679481697827367\t80.76746069732337\t0.40392447352900807\t3.2555133918132935\n",
      "35\t7.54\t84.29674119330431\t2.0141888813499236\t81.33721144287766\t0.30233906088264684\t3.354970744124546\n",
      "35\t48.0\t6713.616577632802\t2.0285947952760726\t74.92636500865211\t0.39984984609230473\t4.976616332153699\n"
     ]
    }
   ],
   "source": [
    "A = 1000 * 1000 - 100 * 100 * 2\n",
    "algorithms = [CSA(), SA(), SODA(A), DSSA(A), SSND(A), VFASF(), SWARM()]    \n",
    "\n",
    "for algorithm in algorithms:\n",
    "    runSimulator(TwoBoxesSceneGenerator(), algorithm, metricsPrint)"
   ]
  },
  {
   "cell_type": "code",
   "execution_count": 1,
   "id": "d6c4b2ae-69a3-446b-97b8-fa067ec8c001",
   "metadata": {},
   "outputs": [
    {
     "ename": "NameError",
     "evalue": "name 'runSimulator' is not defined",
     "output_type": "error",
     "traceback": [
      "\u001b[0;31m---------------------------------------------------------------------------\u001b[0m",
      "\u001b[0;31mNameError\u001b[0m                                 Traceback (most recent call last)",
      "Cell \u001b[0;32mIn[1], line 1\u001b[0m\n\u001b[0;32m----> 1\u001b[0m \u001b[43mrunSimulator\u001b[49m(ZigZagSceneGenerator(), SA(), metricsPrint)\n",
      "\u001b[0;31mNameError\u001b[0m: name 'runSimulator' is not defined"
     ]
    }
   ],
   "source": [
    "runSimulator(ZigZagSceneGenerator(), SA(), metricsPrint)"
   ]
  },
  {
   "cell_type": "code",
   "execution_count": 3,
   "id": "a6cf4439-e0d3-4e56-a980-59a1af0fb196",
   "metadata": {},
   "outputs": [],
   "source": [
    "runSimulator(OSceneGenerator(), SWARM(), metricsPrint)"
   ]
  },
  {
   "cell_type": "code",
   "execution_count": null,
   "id": "419d143d-58bb-4b3d-93c7-1e903b4c1ded",
   "metadata": {},
   "outputs": [],
   "source": [
    "import simulator_executor\n",
    "from simulator_executor import runSimulator\n",
    "from SWARM_algorithm import SWARMAlgorithm as SWARM\n",
    "from VFASF_algorithm import VFASFAlgorithm as VFASF\n",
    "import scene_preparer\n",
    "from scene_preparer import *\n",
    "import threading\n",
    "\n",
    "class simulatorThread(threading.Thread):\n",
    "    def __init__(self, sceneGenerator, spawnCenter, algorithm, algName, pathToResults):\n",
    "        threading.Thread.__init__(self)\n",
    "        self.sceneGenerator = sceneGenerator\n",
    "        self.spawnCenter = spawnCenter\n",
    "        self.algorithm = algorithm\n",
    "        self.file = open(pathToResults, \"a\")\n",
    "        self.algName = algName\n",
    "\n",
    "    def metricsFileWriter(self, rCnt, elapsedTime, energy, meanDistance, covaragePercentage, uniformity, sensorCoverageUniformity):\n",
    "        print(self.algName+\"\\t\"+str(rCnt) + \"\\t\" + str(elapsedTime) + \"\\t\" + str(energy) + \"\\t\" + str(meanDistance) + \"\\t\" + str(covaragePercentage) + \"\\t\" + str(uniformity) + \"\\t\" + str(sensorCoverageUniformity))\n",
    "        self.file.write(str(rCnt) + \"\\t\" + str(elapsedTime) + \"\\t\" + str(energy) + \"\\t\" + str(meanDistance) + \"\\t\" + str(covaragePercentage) + \"\\t\" + str(uniformity) + \"\\t\" + str(sensorCoverageUniformity) + \"\\n\")\n",
    "    \n",
    "    def run(self):\n",
    "        print('Start ' + self.algName)\n",
    "        runSimulator(self.sceneGenerator, self.spawnCenter, self.algorithm, self.metricsFileWriter)\n",
    "        self.file.close()\n",
    "        print('End ' + self.algName)\n",
    "\n",
    "tVFASFOScene = simulatorThread(generateOscene, np.array([-300, 0, 0]), VFASF(), 'VFASFOScene', 'VFASFOSceneResults.txt')\n",
    "tVFASFZigZagScene = simulatorThread(generateZigZagScene, np.array([-500, 0, 0]), VFASF(), 'VFASFZigZagScene', 'VFASFZigZagSceneResults.txt')\n",
    "tVFASFButterflyScene = simulatorThread(generateButterflyScene, np.array([-300, 0, 0]), VFASF(), 'VFASFButterflyScene', 'VFASFButterflySceneResults.txt')\n",
    "tSWARMOScene = simulatorThread(generateOscene, np.array([-300, 0, 0]), SWARM(), 'SWARMOScene', 'SWARMOSceneResults.txt')\n",
    "tSWARMZigZagScene = simulatorThread(generateZigZagScene, np.array([-500, 0, 0]), SWARM(), 'SWARMZigZagScene', 'SWARMZigZagSceneResults.txt')\n",
    "tSWARMButterflyScene = simulatorThread(generateButterflyScene, np.array([-300, 0, 0]), SWARM(), 'SWARMButterflyScene', 'SWARMButterflySceneResults.txt')\n",
    "\n",
    "tVFASFOScene.start()\n",
    "tVFASFZigZagScene.start()\n",
    "tVFASFButterflyScene.start()\n",
    "tSWARMOScene.start()\n",
    "tSWARMZigZagScene.start()\n",
    "tSWARMButterflyScene.start()\n"
   ]
  }
 ],
 "metadata": {
  "kernelspec": {
   "display_name": "Python 3 (ipykernel)",
   "language": "python",
   "name": "python3"
  },
  "language_info": {
   "codemirror_mode": {
    "name": "ipython",
    "version": 3
   },
   "file_extension": ".py",
   "mimetype": "text/x-python",
   "name": "python",
   "nbconvert_exporter": "python",
   "pygments_lexer": "ipython3",
   "version": "3.8.10"
  }
 },
 "nbformat": 4,
 "nbformat_minor": 5
}
