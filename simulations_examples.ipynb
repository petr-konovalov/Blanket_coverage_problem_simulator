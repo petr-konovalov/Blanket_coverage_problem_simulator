{
 "cells": [
  {
   "cell_type": "code",
   "execution_count": 1,
   "id": "0f52323d-f589-42ed-b8eb-d953130643b1",
   "metadata": {},
   "outputs": [
    {
     "name": "stdout",
     "output_type": "stream",
     "text": [
      "pygame 2.1.2 (SDL 2.0.16, Python 3.8.10)\n",
      "Hello from the pygame community. https://www.pygame.org/contribute.html\n"
     ]
    }
   ],
   "source": [
    "import simulator_executor\n",
    "from simulator_executor import runSimulator\n",
    "from coverage_problem_algorithms import \\\n",
    "    SWARMAlgorithm as SWARM, \\\n",
    "    VFASFAlgorithm as VFASF, \\\n",
    "    CSAAlgorithm as CSA, \\\n",
    "    SAAlgorithm as SA, \\\n",
    "    DSSAAlgorithm as DSSA, \\\n",
    "    SODAAlgorithm as SODA, \\\n",
    "    SSNDAlgorithm as SSND\n",
    "import scene_preparer\n",
    "from scene_preparer import *\n",
    "\n",
    "def metricsPrint(rCnt, elapsedTime, energy, meanDistance, covaragePercentage, uniformity, sensorCoverageUniformity):\n",
    "    print(str(rCnt) + \"\\t\" + str(elapsedTime) + \"\\t\" + str(energy) + \"\\t\" + str(meanDistance) + \"\\t\" + str(covaragePercentage) + \"\\t\" + str(uniformity) + \"\\t\" + str(sensorCoverageUniformity))\n",
    "\n",
    "runSimulator(ButterflySceneGenerator(), CSA(), metricsPrint)"
   ]
  },
  {
   "cell_type": "code",
   "execution_count": 5,
   "id": "d6c4b2ae-69a3-446b-97b8-fa067ec8c001",
   "metadata": {},
   "outputs": [
    {
     "data": {
      "text/plain": [
       "['__class__',\n",
       " '__delattr__',\n",
       " '__dict__',\n",
       " '__dir__',\n",
       " '__doc__',\n",
       " '__eq__',\n",
       " '__format__',\n",
       " '__ge__',\n",
       " '__getattribute__',\n",
       " '__getstate__',\n",
       " '__gt__',\n",
       " '__hash__',\n",
       " '__init__',\n",
       " '__init_subclass__',\n",
       " '__le__',\n",
       " '__lt__',\n",
       " '__module__',\n",
       " '__ne__',\n",
       " '__new__',\n",
       " '__reduce__',\n",
       " '__reduce_ex__',\n",
       " '__repr__',\n",
       " '__setattr__',\n",
       " '__sizeof__',\n",
       " '__str__',\n",
       " '__subclasshook__',\n",
       " '__weakref__',\n",
       " 'algorithmSetup',\n",
       " 'calcSpeed',\n",
       " 'getName',\n",
       " 'sectorCount']"
      ]
     },
     "execution_count": 5,
     "metadata": {},
     "output_type": "execute_result"
    }
   ],
   "source": [
    "dir(CSA())"
   ]
  },
  {
   "cell_type": "code",
   "execution_count": 3,
   "id": "a6cf4439-e0d3-4e56-a980-59a1af0fb196",
   "metadata": {},
   "outputs": [],
   "source": [
    "runSimulator(OSceneGenerator(), SWARM(), metricsPrint)"
   ]
  },
  {
   "cell_type": "code",
   "execution_count": null,
   "id": "419d143d-58bb-4b3d-93c7-1e903b4c1ded",
   "metadata": {},
   "outputs": [],
   "source": [
    "import simulator_executor\n",
    "from simulator_executor import runSimulator\n",
    "from SWARM_algorithm import SWARMAlgorithm as SWARM\n",
    "from VFASF_algorithm import VFASFAlgorithm as VFASF\n",
    "import scene_preparer\n",
    "from scene_preparer import *\n",
    "import threading\n",
    "\n",
    "class simulatorThread(threading.Thread):\n",
    "    def __init__(self, sceneGenerator, spawnCenter, algorithm, algName, pathToResults):\n",
    "        threading.Thread.__init__(self)\n",
    "        self.sceneGenerator = sceneGenerator\n",
    "        self.spawnCenter = spawnCenter\n",
    "        self.algorithm = algorithm\n",
    "        self.file = open(pathToResults, \"a\")\n",
    "        self.algName = algName\n",
    "\n",
    "    def metricsFileWriter(self, rCnt, elapsedTime, energy, meanDistance, covaragePercentage, uniformity, sensorCoverageUniformity):\n",
    "        print(self.algName+\"\\t\"+str(rCnt) + \"\\t\" + str(elapsedTime) + \"\\t\" + str(energy) + \"\\t\" + str(meanDistance) + \"\\t\" + str(covaragePercentage) + \"\\t\" + str(uniformity) + \"\\t\" + str(sensorCoverageUniformity))\n",
    "        self.file.write(str(rCnt) + \"\\t\" + str(elapsedTime) + \"\\t\" + str(energy) + \"\\t\" + str(meanDistance) + \"\\t\" + str(covaragePercentage) + \"\\t\" + str(uniformity) + \"\\t\" + str(sensorCoverageUniformity) + \"\\n\")\n",
    "    \n",
    "    def run(self):\n",
    "        print('Start ' + self.algName)\n",
    "        runSimulator(self.sceneGenerator, self.spawnCenter, self.algorithm, self.metricsFileWriter)\n",
    "        self.file.close()\n",
    "        print('End ' + self.algName)\n",
    "\n",
    "tVFASFOScene = simulatorThread(generateOscene, np.array([-300, 0, 0]), VFASF(), 'VFASFOScene', 'VFASFOSceneResults.txt')\n",
    "tVFASFZigZagScene = simulatorThread(generateZigZagScene, np.array([-500, 0, 0]), VFASF(), 'VFASFZigZagScene', 'VFASFZigZagSceneResults.txt')\n",
    "tVFASFButterflyScene = simulatorThread(generateButterflyScene, np.array([-300, 0, 0]), VFASF(), 'VFASFButterflyScene', 'VFASFButterflySceneResults.txt')\n",
    "tSWARMOScene = simulatorThread(generateOscene, np.array([-300, 0, 0]), SWARM(), 'SWARMOScene', 'SWARMOSceneResults.txt')\n",
    "tSWARMZigZagScene = simulatorThread(generateZigZagScene, np.array([-500, 0, 0]), SWARM(), 'SWARMZigZagScene', 'SWARMZigZagSceneResults.txt')\n",
    "tSWARMButterflyScene = simulatorThread(generateButterflyScene, np.array([-300, 0, 0]), SWARM(), 'SWARMButterflyScene', 'SWARMButterflySceneResults.txt')\n",
    "\n",
    "tVFASFOScene.start()\n",
    "tVFASFZigZagScene.start()\n",
    "tVFASFButterflyScene.start()\n",
    "tSWARMOScene.start()\n",
    "tSWARMZigZagScene.start()\n",
    "tSWARMButterflyScene.start()\n"
   ]
  }
 ],
 "metadata": {
  "kernelspec": {
   "display_name": "Python 3 (ipykernel)",
   "language": "python",
   "name": "python3"
  },
  "language_info": {
   "codemirror_mode": {
    "name": "ipython",
    "version": 3
   },
   "file_extension": ".py",
   "mimetype": "text/x-python",
   "name": "python",
   "nbconvert_exporter": "python",
   "pygments_lexer": "ipython3",
   "version": "3.8.10"
  }
 },
 "nbformat": 4,
 "nbformat_minor": 5
}
