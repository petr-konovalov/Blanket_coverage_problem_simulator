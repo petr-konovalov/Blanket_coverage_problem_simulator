{
 "cells": [
  {
   "cell_type": "code",
   "execution_count": 4,
   "id": "0f52323d-f589-42ed-b8eb-d953130643b1",
   "metadata": {},
   "outputs": [],
   "source": [
    "import simulator_executor\n",
    "from simulator_executor import runSimulator\n",
    "from coverage_problem_algorithms import \\\n",
    "    SWARMAlgorithm as SWARM, \\\n",
    "    VFASFAlgorithm as VFASF, \\\n",
    "    CSAAlgorithm as CSA, \\\n",
    "    SAAlgorithm as SA, \\\n",
    "    DSSAAlgorithm as DSSA, \\\n",
    "    SODAAlgorithm as SODA, \\\n",
    "    SSNDAlgorithm as SSND\n",
    "import scene_preparer\n",
    "from scene_preparer import *\n",
    "\n",
    "def metricsPrint(rCnt, elapsedTime, energy, meanDistance, covaragePercentage, uniformity, sensorCoverageUniformity):\n",
    "    print(str(rCnt) + \"\\t\" + str(elapsedTime) + \"\\t\" + str(energy) + \"\\t\" + str(meanDistance) + \"\\t\" + str(covaragePercentage) + \"\\t\" + str(uniformity) + \"\\t\" + str(sensorCoverageUniformity))\n",
    "\n",
    "widths = [604, 704, 504, 504]\n",
    "heights = [404, 504, 504, 504]\n",
    "As = [1200 * 800 - 0.5 * (800-150) * 1200, 1400 * 1000 - 600 * 600, 1000 * 1000 - 300 * 300, 1000 * 1000 - 100 * 100]\n",
    "scenes = [ButterflySceneGenerator(), ZigZagSceneGenerator(), OSceneGenerator(), TwoBoxesSceneGenerator()]"
   ]
  },
  {
   "cell_type": "code",
   "execution_count": 8,
   "id": "d6f131f8",
   "metadata": {},
   "outputs": [
    {
     "name": "stdout",
     "output_type": "stream",
     "text": [
      "50\t1.2\t166.8991803830562\t1.1020224830703684\t52.32734392269555\t0.49225807388760423\t10.58289235442301\n"
     ]
    }
   ],
   "source": [
    "runSimulator(scenes[0], SODA, metricsPrint, A = As[0])"
   ]
  },
  {
   "cell_type": "code",
   "execution_count": 6,
   "id": "27334c74-c388-4281-97c0-05716d01beac",
   "metadata": {},
   "outputs": [
    {
     "data": {
      "text/plain": [
       "True"
      ]
     },
     "execution_count": 6,
     "metadata": {},
     "output_type": "execute_result"
    }
   ],
   "source": [
    "issubclass(SSND, DSSA)"
   ]
  },
  {
   "cell_type": "code",
   "execution_count": 11,
   "id": "7aa5c747-5a5f-4f2b-a196-439c76b42560",
   "metadata": {},
   "outputs": [
    {
     "data": {
      "text/plain": [
       "array([0.4, 0.2])"
      ]
     },
     "execution_count": 11,
     "metadata": {},
     "output_type": "execute_result"
    }
   ],
   "source": [
    "getPointToSegmentProjection(np.array([0, 0]), np.array([0.5, 0]), np.array([0, 1]))"
   ]
  },
  {
   "cell_type": "code",
   "execution_count": 6,
   "id": "c4fb787d-ec88-464c-ac7c-0f9e499f1306",
   "metadata": {},
   "outputs": [
    {
     "data": {
      "text/plain": [
       "array([5, 4, 3, 7])"
      ]
     },
     "execution_count": 6,
     "metadata": {},
     "output_type": "execute_result"
    }
   ],
   "source": [
    "arr = np.array([5, 4, 3, 5, 7])\n",
    "arr[np.array([1, 2, 3, 0, 2]) > 0]"
   ]
  },
  {
   "cell_type": "code",
   "execution_count": 8,
   "id": "487e263a-b904-413e-ac17-6689e00449ab",
   "metadata": {},
   "outputs": [
    {
     "data": {
      "text/plain": [
       "array([1, 2, 3])"
      ]
     },
     "execution_count": 8,
     "metadata": {},
     "output_type": "execute_result"
    }
   ],
   "source": [
    "np.array([1, 2, 3]).transpose()"
   ]
  },
  {
   "cell_type": "code",
   "execution_count": 11,
   "id": "e540a6d0-f157-4096-8d2a-3c3d0901f76d",
   "metadata": {},
   "outputs": [
    {
     "data": {
      "text/plain": [
       "array([[1.        , 0.5       , 0.33333333, 0.25      ],\n",
       "       [1.        , 0.5       , 0.33333333, 0.25      ],\n",
       "       [1.        , 0.5       , 0.33333333, 0.25      ],\n",
       "       [1.        , 0.5       , 0.33333333, 0.25      ],\n",
       "       [1.        , 0.5       , 0.33333333, 0.25      ]])"
      ]
     },
     "execution_count": 11,
     "metadata": {},
     "output_type": "execute_result"
    }
   ],
   "source": [
    "np.ones([4, 5]).T / np.array([1, 2, 3, 4])"
   ]
  },
  {
   "cell_type": "code",
   "execution_count": 7,
   "id": "c0720920",
   "metadata": {},
   "outputs": [
    {
     "data": {
      "text/plain": [
       "array([[5, 6],\n",
       "       [1, 2],\n",
       "       [3, 4]])"
      ]
     },
     "execution_count": 7,
     "metadata": {},
     "output_type": "execute_result"
    }
   ],
   "source": [
    "np.roll([[1, 2], [3, 4], [5, 6]], 2)"
   ]
  },
  {
   "cell_type": "code",
   "execution_count": null,
   "id": "fc144c8e",
   "metadata": {},
   "outputs": [],
   "source": [
    "#Multiple running\n",
    "for i, sceneGenerator in enumerate(scenes):\n",
    "    A = As[i]\n",
    "    algorithms = [CSA(), SA(), SODA(A), DSSA(A), SSND(A), VFASF(), SWARM()]\n",
    "    for algorithm in algorithms:\n",
    "        runSimulator(sceneGenerator, algorithm, metricsPrint, widths[i], heights[i], np.array([widths[i] * 0.5, heights[i] * 0.5, 0]))"
   ]
  },
  {
   "cell_type": "code",
   "execution_count": 2,
   "id": "49cc4c15",
   "metadata": {},
   "outputs": [
    {
     "name": "stdout",
     "output_type": "stream",
     "text": [
      "35\t3.92\t119.17467927804609\t2.556042308902794\t93.11881005853981\t0.10394360474669387\t2.1479790090984223\n",
      "35\t3.16\t107.65621931585142\t2.545764175052714\t91.06715511210928\t0.2071766331556812\t2.3033596631745286\n",
      "35\t48.0\t4679.908460291121\t2.1129632474818782\t80.98284304701593\t0.4178815640101852\t3.2443866766837672\n",
      "35\t48.0\t6533.0215528711005\t2.1680741238281382\t81.15312396450793\t0.4206415865149754\t3.11062712230728\n",
      "35\t48.0\t1185.8797523962905\t2.0679481697827367\t80.76746069732337\t0.40392447352900807\t3.2555133918132935\n",
      "35\t7.54\t84.29674119330431\t2.0141888813499236\t81.33721144287766\t0.30233906088264684\t3.354970744124546\n",
      "35\t48.0\t6713.616577632802\t2.0285947952760726\t74.92636500865211\t0.39984984609230473\t4.976616332153699\n"
     ]
    }
   ],
   "source": [
    "A = 1000 * 1000 - 100 * 100 * 2\n",
    "algorithms = [CSA(), SA(), SODA(A), DSSA(A), SSND(A), VFASF(), SWARM()]    \n",
    "\n",
    "for algorithm in algorithms:\n",
    "    runSimulator(TwoBoxesSceneGenerator(), algorithm, metricsPrint)"
   ]
  },
  {
   "cell_type": "code",
   "execution_count": 1,
   "id": "d6c4b2ae-69a3-446b-97b8-fa067ec8c001",
   "metadata": {},
   "outputs": [
    {
     "ename": "NameError",
     "evalue": "name 'runSimulator' is not defined",
     "output_type": "error",
     "traceback": [
      "\u001b[0;31m---------------------------------------------------------------------------\u001b[0m",
      "\u001b[0;31mNameError\u001b[0m                                 Traceback (most recent call last)",
      "Cell \u001b[0;32mIn[1], line 1\u001b[0m\n\u001b[0;32m----> 1\u001b[0m \u001b[43mrunSimulator\u001b[49m(ZigZagSceneGenerator(), SA(), metricsPrint)\n",
      "\u001b[0;31mNameError\u001b[0m: name 'runSimulator' is not defined"
     ]
    }
   ],
   "source": [
    "runSimulator(ZigZagSceneGenerator(), SA(), metricsPrint)"
   ]
  },
  {
   "cell_type": "code",
   "execution_count": 3,
   "id": "a6cf4439-e0d3-4e56-a980-59a1af0fb196",
   "metadata": {},
   "outputs": [],
   "source": [
    "runSimulator(OSceneGenerator(), SWARM(), metricsPrint)"
   ]
  },
  {
   "cell_type": "code",
   "execution_count": null,
   "id": "419d143d-58bb-4b3d-93c7-1e903b4c1ded",
   "metadata": {},
   "outputs": [],
   "source": [
    "import simulator_executor\n",
    "from simulator_executor import runSimulator\n",
    "from SWARM_algorithm import SWARMAlgorithm as SWARM\n",
    "from VFASF_algorithm import VFASFAlgorithm as VFASF\n",
    "import scene_preparer\n",
    "from scene_preparer import *\n",
    "import threading\n",
    "\n",
    "class simulatorThread(threading.Thread):\n",
    "    def __init__(self, sceneGenerator, spawnCenter, algorithm, algName, pathToResults):\n",
    "        threading.Thread.__init__(self)\n",
    "        self.sceneGenerator = sceneGenerator\n",
    "        self.spawnCenter = spawnCenter\n",
    "        self.algorithm = algorithm\n",
    "        self.file = open(pathToResults, \"a\")\n",
    "        self.algName = algName\n",
    "\n",
    "    def metricsFileWriter(self, rCnt, elapsedTime, energy, meanDistance, covaragePercentage, uniformity, sensorCoverageUniformity):\n",
    "        print(self.algName+\"\\t\"+str(rCnt) + \"\\t\" + str(elapsedTime) + \"\\t\" + str(energy) + \"\\t\" + str(meanDistance) + \"\\t\" + str(covaragePercentage) + \"\\t\" + str(uniformity) + \"\\t\" + str(sensorCoverageUniformity))\n",
    "        self.file.write(str(rCnt) + \"\\t\" + str(elapsedTime) + \"\\t\" + str(energy) + \"\\t\" + str(meanDistance) + \"\\t\" + str(covaragePercentage) + \"\\t\" + str(uniformity) + \"\\t\" + str(sensorCoverageUniformity) + \"\\n\")\n",
    "    \n",
    "    def run(self):\n",
    "        print('Start ' + self.algName)\n",
    "        runSimulator(self.sceneGenerator, self.spawnCenter, self.algorithm, self.metricsFileWriter)\n",
    "        self.file.close()\n",
    "        print('End ' + self.algName)\n",
    "\n",
    "tVFASFOScene = simulatorThread(generateOscene, np.array([-300, 0, 0]), VFASF(), 'VFASFOScene', 'VFASFOSceneResults.txt')\n",
    "tVFASFZigZagScene = simulatorThread(generateZigZagScene, np.array([-500, 0, 0]), VFASF(), 'VFASFZigZagScene', 'VFASFZigZagSceneResults.txt')\n",
    "tVFASFButterflyScene = simulatorThread(generateButterflyScene, np.array([-300, 0, 0]), VFASF(), 'VFASFButterflyScene', 'VFASFButterflySceneResults.txt')\n",
    "tSWARMOScene = simulatorThread(generateOscene, np.array([-300, 0, 0]), SWARM(), 'SWARMOScene', 'SWARMOSceneResults.txt')\n",
    "tSWARMZigZagScene = simulatorThread(generateZigZagScene, np.array([-500, 0, 0]), SWARM(), 'SWARMZigZagScene', 'SWARMZigZagSceneResults.txt')\n",
    "tSWARMButterflyScene = simulatorThread(generateButterflyScene, np.array([-300, 0, 0]), SWARM(), 'SWARMButterflyScene', 'SWARMButterflySceneResults.txt')\n",
    "\n",
    "tVFASFOScene.start()\n",
    "tVFASFZigZagScene.start()\n",
    "tVFASFButterflyScene.start()\n",
    "tSWARMOScene.start()\n",
    "tSWARMZigZagScene.start()\n",
    "tSWARMButterflyScene.start()\n"
   ]
  }
 ],
 "metadata": {
  "kernelspec": {
   "display_name": "Python 3 (ipykernel)",
   "language": "python",
   "name": "python3"
  },
  "language_info": {
   "codemirror_mode": {
    "name": "ipython",
    "version": 3
   },
   "file_extension": ".py",
   "mimetype": "text/x-python",
   "name": "python",
   "nbconvert_exporter": "python",
   "pygments_lexer": "ipython3",
   "version": "3.11.4"
  }
 },
 "nbformat": 4,
 "nbformat_minor": 5
}
